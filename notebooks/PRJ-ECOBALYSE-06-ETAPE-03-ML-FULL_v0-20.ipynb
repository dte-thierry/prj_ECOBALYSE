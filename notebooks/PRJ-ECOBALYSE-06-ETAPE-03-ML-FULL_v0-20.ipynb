{
 "cells": [
  {
   "cell_type": "markdown",
   "id": "59b37832-086d-4c98-b2b3-fb54cf706cd0",
   "metadata": {},
   "source": [
    "<a name=\"anchorUp\" />\n",
    "\n",
    "<img src=\"PRJ-ECOBALYSE-00-LOGO.png\" alt=\"Logo DataScientest\" style=\"width:250px;height:auto;\">\n",
    "\n",
    "# FORMATION : DataScientest / Data Engineer\n",
    "# PROJET (Nov. 2024) : Impact Textile avec EcoBalyse v2.4.0\n",
    "# ETAPE 03 - Consommation Des Données - Prédictions - `Mode Complet`"
   ]
  },
  {
   "cell_type": "markdown",
   "id": "52a30bc5-6930-4011-a634-894172225e23",
   "metadata": {},
   "source": [
    "## Temps Partiel (9 mois) - jan24_continu_de / cde_projet_ecobalyse"
   ]
  },
  {
   "cell_type": "markdown",
   "id": "b28c223c-ecc1-4823-b3f9-2aeab803828a",
   "metadata": {
    "tags": []
   },
   "source": [
    "### [Dernière Mise A Jour du Document : Lun. 04/11/2024 - Version : 0.20](#anchorDown)\n",
    "(Fichier : PRJ-ECOBALYSE-06-ETAPE-03-ML-FULL_v0-20.ipynb)"
   ]
  },
  {
   "cell_type": "markdown",
   "id": "3ffbdea2-d92d-404a-90dd-6a5b91e6d7db",
   "metadata": {},
   "source": [
    "<div style=\"padding-right: 200px;\">\n",
    "\n",
    "---\n",
    "    \n",
    "</div>"
   ]
  },
  {
   "cell_type": "markdown",
   "id": "b423a90c-e861-4ac5-ac94-cf7a5d583b6e",
   "metadata": {},
   "source": [
    "<a name=\"summaryUp\" />\n",
    "\n",
    "## Sommaire"
   ]
  },
  {
   "cell_type": "markdown",
   "id": "c6dd3da1-9deb-4ef8-bb4e-f6d28d34f8f1",
   "metadata": {},
   "source": [
    "<div style=\"padding-right: 200px;\">\n",
    "\n",
    "[**Etape en cours**](#tdm-02)  \n",
    "[**GitHub**](#tdm-03)  \n",
    "[**VM DataScientest**](#tdm-04)\n",
    "    \n",
    "</div>"
   ]
  },
  {
   "cell_type": "markdown",
   "id": "00cd9ede-58f6-4732-b718-420b507c6331",
   "metadata": {},
   "source": [
    "<div style=\"padding-right: 200px;\">\n",
    "\n",
    "[`Prédictions (Mode Complet)`](#tbm-10) \n",
    "\n",
    "- [**1- Prédire l'impact environnemental de nouveaux textiles aléatoires**](#tbm-10-02)  \n",
    "\n",
    "</div>"
   ]
  },
  {
   "cell_type": "markdown",
   "id": "c7c92974-c889-450b-b94f-7f97d445ade9",
   "metadata": {},
   "source": [
    "<div style=\"padding-right: 200px;\">  \n",
    "    \n",
    "[`Fonction(s) utiles(s)`](#tbm-10-01)  \n",
    "\n",
    "</div>"
   ]
  },
  {
   "cell_type": "markdown",
   "id": "98e15730-eb1e-4c1c-bf12-6f0c8340d49b",
   "metadata": {
    "tags": []
   },
   "source": [
    "<div style=\"padding-right: 200px;\">  \n",
    "\n",
    "[*(Utils311)*](#utils-311)\n",
    "\n",
    "- [...]()      \n",
    "---\n",
    "    \n",
    "</div>"
   ]
  },
  {
   "cell_type": "markdown",
   "id": "ab7ce83b-f0ba-4b5d-8dea-f84c7db7f332",
   "metadata": {
    "tags": []
   },
   "source": [
    "<div style=\"padding-right: 200px;\">  \n",
    "\n",
    "[*(Utils321)*](#utils-321)\n",
    "\n",
    "- [...]()  \n",
    "---\n",
    "    \n",
    "</div>"
   ]
  },
  {
   "cell_type": "markdown",
   "id": "15764bd6-96e8-4a8a-aaad-45279ad75ff1",
   "metadata": {
    "tags": []
   },
   "source": [
    "<div style=\"padding-right: 200px;\">  \n",
    "\n",
    "[*(Utils331)*](#utils-331)\n",
    "\n",
    "- [...]()\n",
    "---\n",
    "    \n",
    "</div>"
   ]
  },
  {
   "cell_type": "markdown",
   "id": "b10c6db4-f0dc-4042-9e91-9cde7ce32f06",
   "metadata": {},
   "source": [
    "### <a name=\"tdm-02\" />[Etape en cours](#summaryUp)"
   ]
  },
  {
   "cell_type": "markdown",
   "id": "4239a00e-db04-41f3-afce-082938dba2a0",
   "metadata": {},
   "source": [
    "<div style=\"padding-right: 200px;\">\n",
    "\n",
    "Visitez le site d'__Écobalyse__, [ici](https://ecobalyse.beta.gouv.fr/)<sup>1 , 2 , 3 , 4 , 5 , 6 , 7 , 8</sup>.\n",
    "\n",
    "<i>En savoir plus</i> : <sup>1</sup>[Simulateur](https://ecobalyse.beta.gouv.fr/#/textile/simulator) , <sup>2</sup>[Explorateur](https://ecobalyse.beta.gouv.fr/#/explore/textile) , <sup>3</sup>[API](https://ecobalyse.beta.gouv.fr/#/api) , <sup>4</sup>[Documentation](https://fabrique-numerique.gitbook.io/ecobalyse) , <sup>5</sup>[GitHub](https://github.com/MTES-MCT/ecobalyse) , <sup>6</sup>[fashiongreenhub.org](https://www.fashiongreenhub.org/2023/08/31/lecobalyse-un-outil-pour-accelerer-la-mise-en-place-de-laffichage-environnemental/) , <sup>7</sup>[gorfou.fr](https://www.gorfou.fr/ecobalyse-calcule-vos-impacts-environnementaux/) , <sup>8</sup>[mtes-mct.github.io](https://mtes-mct.github.io/portail/startup/ecobalyse/)\n",
    "\n",
    "</div>"
   ]
  },
  {
   "cell_type": "markdown",
   "id": "3a4149e2-7e14-4ea9-8e6f-6075228132f4",
   "metadata": {},
   "source": [
    "<div style=\"padding-right: 200px;\">\n",
    "\n",
    "<b>- Etape :</b> 03  \n",
    "    \n",
    "<b>- Description :</b> Consommation des données (`Prédictions`) - Mode Basic\n",
    "    \n",
    "<b>- Objectif :</b>  \n",
    "Dans cette étape, vous utiliserez les données pour modéliser des techniques de `Machine Learning` pour <b>prédire l'impact environnemental</b> de <i>produits non couverts par l'API d'Ecobalyse</i>.\n",
    "\n",
    "Vous pourriez également créer un tableau de bord interactif avec Dash pour visualiser les données et permettre aux utilisateurs d'explorer les impacts environnementaux des différents produits.\n",
    "    \n",
    "<b>- Modules / MasterClass / templates :</b>  \n",
    "`DE120 - Machine Learning` , Dash\n",
    "    \n",
    "<b>Conditions de validation du projet :</b>  \n",
    "Notebook(s) de `Prédictions` | Visualisations  \n",
    "    \n",
    "</div>"
   ]
  },
  {
   "cell_type": "markdown",
   "id": "794b87ba-635e-4c5e-b8ca-0b08f0c235dc",
   "metadata": {},
   "source": [
    "### <a name=\"tdm-03\" />[GitHub](#summaryUp)"
   ]
  },
  {
   "cell_type": "markdown",
   "id": "e17d9559-b298-4046-acb8-14fff62a2604",
   "metadata": {},
   "source": [
    "<div style=\"padding-right: 200px;\">  \n",
    "\n",
    "Voir : `https://github.com/dte-thierry/prj_ECOBALYSE`\n",
    "\n",
    "</div>"
   ]
  },
  {
   "cell_type": "markdown",
   "id": "9d25b00a-b065-452d-88ef-1fa5a418d718",
   "metadata": {},
   "source": [
    "### <a name=\"tdm-04\" />[VM DataScientest](#summaryUp)"
   ]
  },
  {
   "cell_type": "markdown",
   "id": "88e24993-6b21-45d2-9259-29027d91f028",
   "metadata": {},
   "source": [
    "<div style=\"padding-right: 200px;\">\n",
    "\n",
    "VM Ubuntu Server 20.04 LTS 16Go RAM 25Go DD : \n",
    "- *Voir :* `https://learn.datascientest.com/lesson/349/3682`  \n",
    "&nbsp;\n",
    "\n",
    "Recopier le dépôt GitHub sur la machine virtuelle :\n",
    "- *Lancer :* `git clone https://github.com/dte-thierry/prj_ECOBALYSE.git`\n",
    "\n",
    "</div>"
   ]
  },
  {
   "cell_type": "markdown",
   "id": "2719303a-2ea7-4156-ad20-e8f34fb34c28",
   "metadata": {},
   "source": [
    "### <a name=\"tbm-10-01\" />[Fonction(s) utile(s)](#summaryUp)"
   ]
  },
  {
   "cell_type": "markdown",
   "id": "6acd000e-7835-4f5e-87ca-443b15a9dbc4",
   "metadata": {},
   "source": [
    "<div style=\"padding-right: 200px;\">\n",
    "\n",
    "---\n",
    "#### <a name=\"utils-311\" />[*(Utils311)*](#summaryUp)\n",
    "    \n",
    "</div>"
   ]
  },
  {
   "cell_type": "markdown",
   "id": "7f6b231d-b992-46c5-b81c-5dfeec2d99f4",
   "metadata": {},
   "source": [
    "<div style=\"padding-right: 200px;\">\n",
    "\n",
    "---\n",
    "#### <a name=\"utils-321\" />[*(Utils321)*](#summaryUp)\n",
    "    \n",
    "</div>"
   ]
  },
  {
   "cell_type": "markdown",
   "id": "309c514e-c2c3-4d4b-b334-b1e9ca2b8840",
   "metadata": {},
   "source": [
    "<div style=\"padding-right: 200px;\">\n",
    "\n",
    "---\n",
    "#### <a name=\"utils-331\" />[*(Utils331)*](#summaryUp)\n",
    "    \n",
    "</div>"
   ]
  },
  {
   "cell_type": "markdown",
   "id": "4610d33c-568b-4187-abd2-3bad58385fe0",
   "metadata": {},
   "source": [
    "### <a name=\"tbm-10\" />[Prédictions (Mode Complet)](#summaryUp)"
   ]
  },
  {
   "cell_type": "markdown",
   "id": "0d7ea535-592d-43ed-b2d6-e4710c58ba14",
   "metadata": {},
   "source": [
    "<div class=\"warning\" style='background-color:#7DAFF5; color: #0000FF; border-left: solid #0000FF 4px; border-radius: 4px; padding:0.7em;'>\n",
    "<span>\n",
    "<p style='margin-top:1em; text-align:center'>\n",
    "<b>Constantes utiles pour la Prédiction De Nouveaux Textiles Aléatoires (Mode Complet)</b></p>\n",
    "<p style='margin-left:1em;'>\n",
    "    \n",
    "- PROG_FULL_MODE = True \n",
    "- ECOBALYSE_VER = \"v2.4.0\" # en date du 30/10/2024  \n",
    "- JSON_BASIC_FILE = \"PRJ-ECOBALYSE-TEXTILES_basic.json\" \n",
    "- JSON_FULL_FILE = \"PRJ-ECOBALYSE-TEXTILES_full.json\"\n",
    "- PROG_NB_ITERATIONS = 20000\n",
    "\n",
    "</p>\n",
    "<p style='margin-bottom:1em; margin-right:1em; text-align:right; font-family:Georgia'> <b></b> <i></i>\n",
    "</p></span>\n",
    "</div>"
   ]
  },
  {
   "cell_type": "code",
   "execution_count": 3,
   "id": "3a8ab0a3-7a85-4ec8-b8c5-cddee0cd9507",
   "metadata": {
    "jupyter": {
     "source_hidden": true
    },
    "tags": []
   },
   "outputs": [
    {
     "name": "stdout",
     "output_type": "stream",
     "text": [
      "Date, et heure : 04-11-2024, 08:29:38\n",
      "\n",
      "Mode d'Extraction Des Données Ecobalyse v2.4.0 : Complet. \n",
      "Ajout et transformation de 20000 donnée(s) aléatoire(s), par catégorie(s) de textile(s). \n",
      "Fichier JSON utilisé : PRJ-ECOBALYSE-TEXTILES_full.json\n"
     ]
    }
   ],
   "source": [
    "from datetime import datetime\n",
    "# date et heure du jour\n",
    "NOW = datetime.now().strftime('%d-%m-%Y, %H:%M:%S')\n",
    "print(\"Date, et heure :\", NOW)\n",
    "\n",
    "# constantes \n",
    "PROG_FULL_MODE = True\n",
    "ECOBALYSE_VER = \"v2.4.0\" # en date du 30/10/2024  \n",
    "JSON_BASIC_FILE = \"PRJ-ECOBALYSE-TEXTILES_basic.json\" \n",
    "JSON_FULL_FILE = \"PRJ-ECOBALYSE-TEXTILES_full.json\"\n",
    "PROG_NB_ITERATIONS = 20000\n",
    "\n",
    "# Affichage du Mode d'extraction des données\n",
    "if not PROG_FULL_MODE:\n",
    "    print(f\"\\nMode d'Extraction Des Données Ecobalyse {ECOBALYSE_VER} : Basic. \\nFichier JSON utilisé : {JSON_BASIC_FILE}\")\n",
    "elif PROG_FULL_MODE:\n",
    "    print(f\"\\nMode d'Extraction Des Données Ecobalyse {ECOBALYSE_VER} : Complet. \\nAjout et transformation de {PROG_NB_ITERATIONS} donnée(s) aléatoire(s), par catégorie(s) de textile(s). \\nFichier JSON utilisé : {JSON_FULL_FILE}\")\n",
    "else:\n",
    "    print(\"\\nLa valeur de PROG_FULL_MODE n'est pas valide. Veuillez vérifier votre paramétrage ETL.\")\n"
   ]
  },
  {
   "cell_type": "markdown",
   "id": "a24a3f61-4127-4f54-82b3-6b0c8a085803",
   "metadata": {},
   "source": [
    "#### <a name=\"tbm-10-02\" />[1- Prédire l'impact environnemental de nouveaux textiles aléatoires](#summaryUp)"
   ]
  },
  {
   "cell_type": "code",
   "execution_count": 2,
   "id": "3a1ceb96-a1c7-4ff1-ab34-9e699ff43645",
   "metadata": {
    "jupyter": {
     "source_hidden": true
    },
    "tags": []
   },
   "outputs": [
    {
     "data": {
      "text/html": [
       "<div>\n",
       "<style scoped>\n",
       "    .dataframe tbody tr th:only-of-type {\n",
       "        vertical-align: middle;\n",
       "    }\n",
       "\n",
       "    .dataframe tbody tr th {\n",
       "        vertical-align: top;\n",
       "    }\n",
       "\n",
       "    .dataframe thead th {\n",
       "        text-align: right;\n",
       "    }\n",
       "</style>\n",
       "<table border=\"1\" class=\"dataframe\">\n",
       "  <thead>\n",
       "    <tr style=\"text-align: right;\">\n",
       "      <th></th>\n",
       "      <th>Libelle</th>\n",
       "      <th>Categorie</th>\n",
       "      <th>ecs</th>\n",
       "      <th>Pays</th>\n",
       "      <th>Mode</th>\n",
       "      <th>Masse</th>\n",
       "      <th>Matiere</th>\n",
       "      <th>description</th>\n",
       "      <th>business</th>\n",
       "      <th>numberOfReferences</th>\n",
       "      <th>...</th>\n",
       "      <th>countryDyeing</th>\n",
       "      <th>countryMaking</th>\n",
       "      <th>durability</th>\n",
       "      <th>ecs_materials</th>\n",
       "      <th>ecs_transformation</th>\n",
       "      <th>ecs_complementsImpacts</th>\n",
       "      <th>ecs_transport</th>\n",
       "      <th>ecs_utilisation</th>\n",
       "      <th>ecs_fin_de_vie</th>\n",
       "      <th>Etapes</th>\n",
       "    </tr>\n",
       "  </thead>\n",
       "  <tbody>\n",
       "    <tr>\n",
       "      <th>0</th>\n",
       "      <td>Tshirt coton 150g Chine Mode fast fashion</td>\n",
       "      <td>Tshirt / Polo</td>\n",
       "      <td>1161</td>\n",
       "      <td>Chine</td>\n",
       "      <td>Mode fast fashion</td>\n",
       "      <td>0.15</td>\n",
       "      <td>coton</td>\n",
       "      <td>T-shirt / Polo : 0,150kg, matière : 75% Coton ...</td>\n",
       "      <td>large-business-without-services</td>\n",
       "      <td>12000</td>\n",
       "      <td>...</td>\n",
       "      <td>CN</td>\n",
       "      <td>CN</td>\n",
       "      <td>0.92</td>\n",
       "      <td>391.32</td>\n",
       "      <td>398.60</td>\n",
       "      <td>80.71</td>\n",
       "      <td>82.46</td>\n",
       "      <td>155.21</td>\n",
       "      <td>41.73</td>\n",
       "      <td>{'matieres_premieres': 36.64, 'transformation'...</td>\n",
       "    </tr>\n",
       "    <tr>\n",
       "      <th>1</th>\n",
       "      <td>Tshirt synthetique 150g Asie Mode ultra fast f...</td>\n",
       "      <td>Tshirt / Polo</td>\n",
       "      <td>1546</td>\n",
       "      <td>Asie</td>\n",
       "      <td>Mode ultra fast fashion</td>\n",
       "      <td>0.15</td>\n",
       "      <td>synthetique</td>\n",
       "      <td>T-shirt / Polo : 0,150kg, matière : 95% Polyes...</td>\n",
       "      <td>large-business-without-services</td>\n",
       "      <td>100000</td>\n",
       "      <td>...</td>\n",
       "      <td>RAS</td>\n",
       "      <td>RAS</td>\n",
       "      <td>0.67</td>\n",
       "      <td>184.03</td>\n",
       "      <td>323.14</td>\n",
       "      <td>319.03</td>\n",
       "      <td>81.24</td>\n",
       "      <td>113.57</td>\n",
       "      <td>95.73</td>\n",
       "      <td>{'matieres_premieres': 17.77, 'transformation'...</td>\n",
       "    </tr>\n",
       "    <tr>\n",
       "      <th>2</th>\n",
       "      <td>Tshirt coton 150g Majorant par defaut</td>\n",
       "      <td>Tshirt / Polo</td>\n",
       "      <td>1905</td>\n",
       "      <td>Pays inconnu</td>\n",
       "      <td>Majorant par defaut</td>\n",
       "      <td>0.15</td>\n",
       "      <td>coton</td>\n",
       "      <td>T-shirt / Polo : 0,150kg, matière : 100% Coton...</td>\n",
       "      <td>large-business-without-services</td>\n",
       "      <td>100000</td>\n",
       "      <td>...</td>\n",
       "      <td>---</td>\n",
       "      <td>---</td>\n",
       "      <td>0.67</td>\n",
       "      <td>484.58</td>\n",
       "      <td>525.62</td>\n",
       "      <td>110.82</td>\n",
       "      <td>74.69</td>\n",
       "      <td>113.57</td>\n",
       "      <td>41.73</td>\n",
       "      <td>{'matieres_premieres': 37.97, 'transformation'...</td>\n",
       "    </tr>\n",
       "    <tr>\n",
       "      <th>3</th>\n",
       "      <td>Tshirt lin 150g France Mode ethique</td>\n",
       "      <td>Tshirt / Polo</td>\n",
       "      <td>445</td>\n",
       "      <td>France</td>\n",
       "      <td>Mode ethique</td>\n",
       "      <td>0.15</td>\n",
       "      <td>lin</td>\n",
       "      <td>T-shirt / Polo : 0,150kg, matière : 100% Lin p...</td>\n",
       "      <td>small-business</td>\n",
       "      <td>200</td>\n",
       "      <td>...</td>\n",
       "      <td>FR</td>\n",
       "      <td>FR</td>\n",
       "      <td>1.45</td>\n",
       "      <td>101.44</td>\n",
       "      <td>204.25</td>\n",
       "      <td>51.21</td>\n",
       "      <td>17.17</td>\n",
       "      <td>246.07</td>\n",
       "      <td>41.73</td>\n",
       "      <td>{'matieres_premieres': 15.72, 'transformation'...</td>\n",
       "    </tr>\n",
       "  </tbody>\n",
       "</table>\n",
       "<p>4 rows × 27 columns</p>\n",
       "</div>"
      ],
      "text/plain": [
       "                                             Libelle      Categorie   ecs  \\\n",
       "0          Tshirt coton 150g Chine Mode fast fashion  Tshirt / Polo  1161   \n",
       "1  Tshirt synthetique 150g Asie Mode ultra fast f...  Tshirt / Polo  1546   \n",
       "2              Tshirt coton 150g Majorant par defaut  Tshirt / Polo  1905   \n",
       "3                Tshirt lin 150g France Mode ethique  Tshirt / Polo   445   \n",
       "\n",
       "           Pays                     Mode  Masse      Matiere  \\\n",
       "0         Chine        Mode fast fashion   0.15        coton   \n",
       "1          Asie  Mode ultra fast fashion   0.15  synthetique   \n",
       "2  Pays inconnu      Majorant par defaut   0.15        coton   \n",
       "3        France             Mode ethique   0.15          lin   \n",
       "\n",
       "                                         description  \\\n",
       "0  T-shirt / Polo : 0,150kg, matière : 75% Coton ...   \n",
       "1  T-shirt / Polo : 0,150kg, matière : 95% Polyes...   \n",
       "2  T-shirt / Polo : 0,150kg, matière : 100% Coton...   \n",
       "3  T-shirt / Polo : 0,150kg, matière : 100% Lin p...   \n",
       "\n",
       "                          business  numberOfReferences  ...  countryDyeing  \\\n",
       "0  large-business-without-services               12000  ...             CN   \n",
       "1  large-business-without-services              100000  ...            RAS   \n",
       "2  large-business-without-services              100000  ...            ---   \n",
       "3                   small-business                 200  ...             FR   \n",
       "\n",
       "   countryMaking durability  ecs_materials ecs_transformation  \\\n",
       "0             CN       0.92         391.32             398.60   \n",
       "1            RAS       0.67         184.03             323.14   \n",
       "2            ---       0.67         484.58             525.62   \n",
       "3             FR       1.45         101.44             204.25   \n",
       "\n",
       "  ecs_complementsImpacts ecs_transport ecs_utilisation ecs_fin_de_vie  \\\n",
       "0                  80.71         82.46          155.21          41.73   \n",
       "1                 319.03         81.24          113.57          95.73   \n",
       "2                 110.82         74.69          113.57          41.73   \n",
       "3                  51.21         17.17          246.07          41.73   \n",
       "\n",
       "                                              Etapes  \n",
       "0  {'matieres_premieres': 36.64, 'transformation'...  \n",
       "1  {'matieres_premieres': 17.77, 'transformation'...  \n",
       "2  {'matieres_premieres': 37.97, 'transformation'...  \n",
       "3  {'matieres_premieres': 15.72, 'transformation'...  \n",
       "\n",
       "[4 rows x 27 columns]"
      ]
     },
     "execution_count": 2,
     "metadata": {},
     "output_type": "execute_result"
    }
   ],
   "source": [
    "# charger les librairies utiles\n",
    "import pandas as pd\n",
    "import os\n",
    "\n",
    "# Définir le chemin d'entrée JSON en fonction du mode\n",
    "if PROG_FULL_MODE:\n",
    "    json_input_path = os.path.join('data', JSON_FULL_FILE)\n",
    "else:\n",
    "    json_input_path = os.path.join('data', JSON_BASIC_FILE)\n",
    "\n",
    "# Récupérer le fichier JSON Lines (JSONL) et créer un DataFrame\n",
    "df = pd.read_json(json_input_path, lines=True)\n",
    "\n",
    "# Affichage\n",
    "df.head(4)"
   ]
  },
  {
   "cell_type": "markdown",
   "id": "0b322c91-7ca5-445c-9293-06aef4bf4749",
   "metadata": {},
   "source": [
    "###### <a name=\"anchorDown\" />\n",
    "\n",
    "##### [PROJET DATASCIENTEST (Nov. 2024) : Impact Textile avec EcoBalyse - Consommation Des Données - Prédictions (Mode Complet)](#anchorUp)"
   ]
  }
 ],
 "metadata": {
  "kernelspec": {
   "display_name": "Python 3 (ipykernel)",
   "language": "python",
   "name": "python3"
  },
  "language_info": {
   "codemirror_mode": {
    "name": "ipython",
    "version": 3
   },
   "file_extension": ".py",
   "mimetype": "text/x-python",
   "name": "python",
   "nbconvert_exporter": "python",
   "pygments_lexer": "ipython3",
   "version": "3.11.1"
  }
 },
 "nbformat": 4,
 "nbformat_minor": 5
}
