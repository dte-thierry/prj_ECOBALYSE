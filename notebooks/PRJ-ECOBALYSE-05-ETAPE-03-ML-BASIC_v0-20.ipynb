{
 "cells": [
  {
   "cell_type": "markdown",
   "id": "59b37832-086d-4c98-b2b3-fb54cf706cd0",
   "metadata": {},
   "source": [
    "<a name=\"anchorUp\" />\n",
    "\n",
    "<img src=\"PRJ-ECOBALYSE-00-LOGO.png\" alt=\"Logo DataScientest\" style=\"width:250px;height:auto;\">\n",
    "\n",
    "# FORMATION : DataScientest / Data Engineer\n",
    "# PROJET (Nov. 2024) : Impact Textile avec EcoBalyse v2.4.0\n",
    "# ETAPE 03 - Consommation Des Données - Prédictions - `Mode Basic`"
   ]
  },
  {
   "cell_type": "markdown",
   "id": "52a30bc5-6930-4011-a634-894172225e23",
   "metadata": {},
   "source": [
    "## Temps Partiel (9 mois) - jan24_continu_de / cde_projet_ecobalyse"
   ]
  },
  {
   "cell_type": "markdown",
   "id": "b28c223c-ecc1-4823-b3f9-2aeab803828a",
   "metadata": {
    "tags": []
   },
   "source": [
    "### [Dernière Mise A Jour du Document : Lun. 04/11/2024 - Version : 0.20](#anchorDown)\n",
    "(Fichier : PRJ-ECOBALYSE-05-ETAPE-03-ML-BASIC_v0-20.ipynb)"
   ]
  },
  {
   "cell_type": "markdown",
   "id": "3ffbdea2-d92d-404a-90dd-6a5b91e6d7db",
   "metadata": {},
   "source": [
    "<div style=\"padding-right: 200px;\">\n",
    "\n",
    "---\n",
    "    \n",
    "</div>"
   ]
  },
  {
   "cell_type": "markdown",
   "id": "b423a90c-e861-4ac5-ac94-cf7a5d583b6e",
   "metadata": {},
   "source": [
    "<a name=\"summaryUp\" />\n",
    "\n",
    "## Sommaire"
   ]
  },
  {
   "cell_type": "markdown",
   "id": "c6dd3da1-9deb-4ef8-bb4e-f6d28d34f8f1",
   "metadata": {},
   "source": [
    "<div style=\"padding-right: 200px;\">\n",
    "\n",
    "[**Etape en cours**](#tdm-02)  \n",
    "[**GitHub**](#tdm-03)  \n",
    "[**VM DataScientest**](#tdm-04)\n",
    "    \n",
    "</div>"
   ]
  },
  {
   "cell_type": "markdown",
   "id": "00cd9ede-58f6-4732-b718-420b507c6331",
   "metadata": {},
   "source": [
    "<div style=\"padding-right: 200px;\">\n",
    "\n",
    "[`Prédictions (Mode Basic)`](#tbm-10) \n",
    "\n",
    "- [**1- Prédire l'impact environnemental de textiles par Machine Learning**](#tbm-10-02)    \n",
    "    Préparer les données\n",
    "    - [Vérifier les données](#tbm-10-02-01)\n",
    "    - [Séparer le jeu de données](#tbm-10-02-02)    \n",
    "    - [Standardiser les variables numériques](#tbm-10-02-03)\n",
    "    - [Encoder les colonnes catégorielles](#tbm-10-02-04)  \n",
    "&nbsp;    \n",
    "\n",
    "    Analyser différents modèles & différentes techniques de prédiction\n",
    "    - [Modéliser : Régression Linéaire - utiliser un modèle](#tbm-10-02-05)      \n",
    "    - [Modéliser : Régression Linéaire - calculer l'intercept (ordonnée à l’origine)](#tbm-10-02-06)    \n",
    "    - [Modéliser : Régression Linéaire - impact de chaque variable sur la variable cible](#tbm-10-02-07)\n",
    "    - [Modéliser : Régression Linéaire - graphique de prédiction de l'ecoscore 'ecs'](#tbm-10-02-08)    \n",
    "    - [Modéliser : Régression d’Arbre de Décision - coefficients de détermination ( R^2 )](#tbm-10-02-09)    \n",
    "    - [Modéliser : Régression d’Arbre de Décision - importance des variables](#tbm-10-02-10)\n",
    "    - [Modéliser : Régression d’Arbre de Décision - filtrer les variables les plus importantes & recalculer](#tbm-10-02-11)    \n",
    "    - [Modéliser : Régression d’Arbre de Décision - graphique (profondeur maximale de 2)](#tbm-10-02-12)    \n",
    "    - [Modéliser : Régression par Forêt Aléatoire - scores de performance](#tbm-10-02-13)    \n",
    "    - [Modéliser : Régression par Forêt Aléatoire / Arbre de Décision - comparaison des performances](#tbm-10-02-14)    \n",
    "    - [Modéliser : Améliorer les performances - normaliser les données](#tbm-10-02-15)    \n",
    "    - [Modéliser : Améliorer les performances - utiliser une validation croisée](#tbm-10-02-16)    \n",
    "    - [Modéliser : Améliorer les performances - utiliser un modèle Random Forest](#tbm-10-02-17)  \n",
    "    \n",
    "    Conclusion & choix du modèle       \n",
    "    - [Utiliser : Régression Linéaire - tester le modèle choisi](#tbm-10-02-18)  \n",
    "    \n",
    "</div>"
   ]
  },
  {
   "cell_type": "markdown",
   "id": "b10c6db4-f0dc-4042-9e91-9cde7ce32f06",
   "metadata": {},
   "source": [
    "### <a name=\"tdm-02\" />[Etape en cours](#summaryUp)"
   ]
  },
  {
   "cell_type": "markdown",
   "id": "4239a00e-db04-41f3-afce-082938dba2a0",
   "metadata": {},
   "source": [
    "<div style=\"padding-right: 200px;\">\n",
    "\n",
    "Visitez le site d'__Écobalyse__, [ici](https://ecobalyse.beta.gouv.fr/)<sup>1 , 2 , 3 , 4 , 5 , 6 , 7 , 8</sup>.\n",
    "\n",
    "<i>En savoir plus</i> : <sup>1</sup>[Simulateur](https://ecobalyse.beta.gouv.fr/#/textile/simulator) , <sup>2</sup>[Explorateur](https://ecobalyse.beta.gouv.fr/#/explore/textile) , <sup>3</sup>[API](https://ecobalyse.beta.gouv.fr/#/api) , <sup>4</sup>[Documentation](https://fabrique-numerique.gitbook.io/ecobalyse) , <sup>5</sup>[GitHub](https://github.com/MTES-MCT/ecobalyse) , <sup>6</sup>[fashiongreenhub.org](https://www.fashiongreenhub.org/2023/08/31/lecobalyse-un-outil-pour-accelerer-la-mise-en-place-de-laffichage-environnemental/) , <sup>7</sup>[gorfou.fr](https://www.gorfou.fr/ecobalyse-calcule-vos-impacts-environnementaux/) , <sup>8</sup>[mtes-mct.github.io](https://mtes-mct.github.io/portail/startup/ecobalyse/)\n",
    "\n",
    "</div>"
   ]
  },
  {
   "cell_type": "markdown",
   "id": "3a4149e2-7e14-4ea9-8e6f-6075228132f4",
   "metadata": {},
   "source": [
    "<div style=\"padding-right: 200px;\">\n",
    "\n",
    "<b>- Etape :</b> 03  \n",
    "    \n",
    "<b>- Description :</b> Consommation des données (`Prédictions`) - Mode Basic\n",
    "    \n",
    "<b>- Objectif :</b>  \n",
    "Dans cette étape, vous utiliserez les données pour modéliser des techniques de `Machine Learning` pour <b>prédire l'impact environnemental</b> de <i>produits non couverts par l'API d'Ecobalyse</i>.\n",
    "\n",
    "Vous pourriez également créer un tableau de bord interactif avec Dash pour visualiser les données et permettre aux utilisateurs d'explorer les impacts environnementaux des différents produits.\n",
    "    \n",
    "<b>- Modules / MasterClass / templates :</b>  \n",
    "`DE120 - Machine Learning` , Dash\n",
    "    \n",
    "<b>Conditions de validation du projet :</b>  \n",
    "Notebook(s) de `Prédictions` | Visualisations  \n",
    "    \n",
    "</div>"
   ]
  },
  {
   "cell_type": "markdown",
   "id": "794b87ba-635e-4c5e-b8ca-0b08f0c235dc",
   "metadata": {},
   "source": [
    "### <a name=\"tdm-03\" />[GitHub](#summaryUp)"
   ]
  },
  {
   "cell_type": "markdown",
   "id": "e17d9559-b298-4046-acb8-14fff62a2604",
   "metadata": {},
   "source": [
    "<div style=\"padding-right: 200px;\">  \n",
    "\n",
    "Voir : `https://github.com/dte-thierry/prj_ECOBALYSE`\n",
    "\n",
    "</div>"
   ]
  },
  {
   "cell_type": "markdown",
   "id": "9d25b00a-b065-452d-88ef-1fa5a418d718",
   "metadata": {},
   "source": [
    "### <a name=\"tdm-04\" />[VM DataScientest](#summaryUp)"
   ]
  },
  {
   "cell_type": "markdown",
   "id": "88e24993-6b21-45d2-9259-29027d91f028",
   "metadata": {},
   "source": [
    "<div style=\"padding-right: 200px;\">\n",
    "\n",
    "VM Ubuntu Server 20.04 LTS 16Go RAM 25Go DD : \n",
    "- *Voir :* `https://learn.datascientest.com/lesson/349/3682`  \n",
    "&nbsp;\n",
    "\n",
    "Recopier le dépôt GitHub sur la machine virtuelle :\n",
    "- *Lancer :* `git clone https://github.com/dte-thierry/prj_ECOBALYSE.git`\n",
    "\n",
    "</div>"
   ]
  },
  {
   "cell_type": "markdown",
   "id": "4610d33c-568b-4187-abd2-3bad58385fe0",
   "metadata": {},
   "source": [
    "### <a name=\"tbm-10\" />[Prédictions (Mode Basic)](#summaryUp)"
   ]
  },
  {
   "cell_type": "markdown",
   "id": "0d7ea535-592d-43ed-b2d6-e4710c58ba14",
   "metadata": {},
   "source": [
    "<div class=\"warning\" style='background-color:#7DAFF5; color: #0000FF; border-left: solid #0000FF 4px; border-radius: 4px; padding:0.7em;'>\n",
    "<span>\n",
    "<p style='margin-top:1em; text-align:center'>\n",
    "<b>Constantes utiles pour la Prédiction De Nouveaux Textiles Aléatoires (Mode Basic)</b></p>\n",
    "<p style='margin-left:1em;'>\n",
    "    \n",
    "- PROG_FULL_MODE = False \n",
    "- ECOBALYSE_VER = \"v2.4.0\" # en date du 30/10/2024  \n",
    "- JSON_BASIC_FILE = \"PRJ-ECOBALYSE-TEXTILES_basic.json\" \n",
    "- JSON_FULL_FILE = \"PRJ-ECOBALYSE-TEXTILES_full.json\"\n",
    "\n",
    "</p>\n",
    "<p style='margin-bottom:1em; margin-right:1em; text-align:right; font-family:Georgia'> <b></b> <i></i>\n",
    "</p></span>\n",
    "</div>"
   ]
  },
  {
   "cell_type": "code",
   "execution_count": 1,
   "id": "3a8ab0a3-7a85-4ec8-b8c5-cddee0cd9507",
   "metadata": {
    "jupyter": {
     "source_hidden": true
    },
    "tags": []
   },
   "outputs": [
    {
     "name": "stdout",
     "output_type": "stream",
     "text": [
      "Date, et heure : 04-11-2024, 11:15:14\n",
      "\n",
      "Mode d'Extraction Des Données Ecobalyse v2.4.0 : Basic. \n",
      "Fichier JSON utilisé : PRJ-ECOBALYSE-TEXTILES_basic.json\n"
     ]
    }
   ],
   "source": [
    "# Charger les librairies utiles\n",
    "import pandas as pd\n",
    "from datetime import datetime\n",
    "\n",
    "from sklearn.tree import DecisionTreeRegressor \n",
    "from sklearn.tree import plot_tree # tree diagram\n",
    "\n",
    "from sklearn.model_selection import cross_val_score\n",
    "\n",
    "from sklearn.base import BaseEstimator, TransformerMixin\n",
    "\n",
    "from sklearn.ensemble import RandomForestClassifier,GradientBoostingClassifier\n",
    "from sklearn.ensemble import RandomForestRegressor\n",
    "\n",
    "from sklearn.impute import SimpleImputer\n",
    "\n",
    "from sklearn.model_selection import train_test_split \n",
    "\n",
    "from sklearn.pipeline import Pipeline \n",
    "from sklearn.pipeline import FeatureUnion\n",
    "\n",
    "from sklearn.compose import make_column_transformer\n",
    "from sklearn.compose import make_column_selector\n",
    "\n",
    "from sklearn.preprocessing import FunctionTransformer\n",
    "from sklearn.preprocessing import OneHotEncoder\n",
    "from sklearn.preprocessing import StandardScaler\n",
    "from sklearn.preprocessing import OneHotEncoder\n",
    "\n",
    "from sklearn.linear_model import LogisticRegression\n",
    "from sklearn.linear_model import SGDClassifier\n",
    "from sklearn.linear_model import LinearRegression\n",
    "\n",
    "from sklearn.metrics import mean_absolute_error as mae\n",
    "from sklearn.metrics import accuracy_score\n",
    "from sklearn.metrics import mean_squared_error, r2_score\n",
    "\n",
    "import warnings\n",
    "\n",
    "import matplotlib.pyplot as plt\n",
    "%matplotlib inline\n",
    "\n",
    "# ignorer les avertissements générés par le programme\n",
    "warnings.filterwarnings(\"ignore\")\n",
    "\n",
    "# constantes \n",
    "PROG_FULL_MODE = False\n",
    "ECOBALYSE_VER = \"v2.4.0\" # en date du 30/10/2024  \n",
    "JSON_BASIC_FILE = \"PRJ-ECOBALYSE-TEXTILES_basic.json\" \n",
    "JSON_FULL_FILE = \"PRJ-ECOBALYSE-TEXTILES_full.json\"\n",
    "PROG_NB_ITERATIONS = 0\n",
    "\n",
    "# config. DataFrame : définir la largeur maximale des colonnes à None pour éviter la troncature\n",
    "pd.set_option('display.max_colwidth', None)\n",
    "\n",
    "# date et heure du jour\n",
    "NOW = datetime.now().strftime('%d-%m-%Y, %H:%M:%S')\n",
    "print(\"Date, et heure :\", NOW)\n",
    "\n",
    "# Affichage du Mode d'extraction des données\n",
    "if not PROG_FULL_MODE:\n",
    "    print(f\"\\nMode d'Extraction Des Données Ecobalyse {ECOBALYSE_VER} : Basic. \\nFichier JSON utilisé : {JSON_BASIC_FILE}\")\n",
    "elif PROG_FULL_MODE:\n",
    "    print(f\"\\nMode d'Extraction Des Données Ecobalyse {ECOBALYSE_VER} : Complet. \\nAjout et transformation de {PROG_NB_ITERATIONS} donnée(s) aléatoire(s), par catégorie(s) de textile(s). \\nFichier JSON utilisé : {JSON_FULL_FILE}\")\n",
    "else:\n",
    "    print(\"\\nLa valeur de PROG_FULL_MODE n'est pas valide. Veuillez vérifier votre paramétrage ETL.\")\n"
   ]
  },
  {
   "cell_type": "markdown",
   "id": "a24a3f61-4127-4f54-82b3-6b0c8a085803",
   "metadata": {},
   "source": [
    "#### <a name=\"tbm-10-02\" />[1- Prédire l'impact environnemental de textiles par Machine Learning](#summaryUp)"
   ]
  },
  {
   "cell_type": "code",
   "execution_count": 2,
   "id": "3a1ceb96-a1c7-4ff1-ab34-9e699ff43645",
   "metadata": {
    "jupyter": {
     "source_hidden": true
    },
    "tags": []
   },
   "outputs": [],
   "source": [
    "# charger les librairies utiles\n",
    "import pandas as pd\n",
    "import os\n",
    "\n",
    "# Définir le chemin d'entrée JSON en fonction du mode\n",
    "if PROG_FULL_MODE:\n",
    "    json_input_path = os.path.join('data', JSON_FULL_FILE)\n",
    "else:\n",
    "    json_input_path = os.path.join('data', JSON_BASIC_FILE)\n",
    "\n",
    "# Récupérer le fichier JSON Lines (JSONL) et créer un DataFrame\n",
    "df = pd.read_json(json_input_path, lines=True)\n",
    "\n",
    "# config. DataFrame : revenir à la largeur par défaut des colonnes\n",
    "pd.reset_option('display.max_colwidth')\n",
    "\n",
    "# Affichage\n",
    "# df.head(4)"
   ]
  },
  {
   "cell_type": "markdown",
   "id": "d4d4814e-d7f8-4d3d-a628-51459cfe077a",
   "metadata": {},
   "source": [
    "##### <a name=\"tbm-10-02-01\" />[Vérifier les données](#summaryUp)"
   ]
  },
  {
   "cell_type": "code",
   "execution_count": 3,
   "id": "252d9b90-9cdf-4b2d-b8ab-9399fb78eec0",
   "metadata": {
    "collapsed": true,
    "jupyter": {
     "outputs_hidden": true
    },
    "tags": []
   },
   "outputs": [
    {
     "name": "stdout",
     "output_type": "stream",
     "text": [
      "<class 'pandas.core.frame.DataFrame'>\n",
      "RangeIndex: 24 entries, 0 to 23\n",
      "Data columns (total 27 columns):\n",
      " #   Column                  Non-Null Count  Dtype  \n",
      "---  ------                  --------------  -----  \n",
      " 0   Libelle                 24 non-null     object \n",
      " 1   Categorie               24 non-null     object \n",
      " 2   ecs                     24 non-null     int64  \n",
      " 3   Pays                    24 non-null     object \n",
      " 4   Mode                    24 non-null     object \n",
      " 5   Masse                   24 non-null     float64\n",
      " 6   Matiere                 24 non-null     object \n",
      " 7   description             24 non-null     object \n",
      " 8   business                24 non-null     object \n",
      " 9   numberOfReferences      24 non-null     int64  \n",
      " 10  price                   24 non-null     int64  \n",
      " 11  traceability            24 non-null     bool   \n",
      " 12  product                 24 non-null     object \n",
      " 13  airTransportRatio       24 non-null     int64  \n",
      " 14  materials               24 non-null     object \n",
      " 15  countrySpinning         24 non-null     object \n",
      " 16  countryFabric           24 non-null     object \n",
      " 17  countryDyeing           24 non-null     object \n",
      " 18  countryMaking           24 non-null     object \n",
      " 19  durability              24 non-null     float64\n",
      " 20  ecs_materials           24 non-null     float64\n",
      " 21  ecs_transformation      24 non-null     float64\n",
      " 22  ecs_complementsImpacts  24 non-null     float64\n",
      " 23  ecs_transport           24 non-null     float64\n",
      " 24  ecs_utilisation         24 non-null     float64\n",
      " 25  ecs_fin_de_vie          24 non-null     float64\n",
      " 26  Etapes                  24 non-null     object \n",
      "dtypes: bool(1), float64(8), int64(4), object(14)\n",
      "memory usage: 5.0+ KB\n"
     ]
    }
   ],
   "source": [
    "# Afficher un résumé informatif du DataFrame : aperçu de la structure et des types de données\n",
    "df.info()"
   ]
  },
  {
   "cell_type": "code",
   "execution_count": 4,
   "id": "0ce86b40-2811-4105-b3b5-991957a6fae4",
   "metadata": {
    "collapsed": true,
    "jupyter": {
     "outputs_hidden": true
    },
    "tags": []
   },
   "outputs": [
    {
     "data": {
      "text/plain": [
       "Libelle                   0\n",
       "Categorie                 0\n",
       "ecs                       0\n",
       "Pays                      0\n",
       "Mode                      0\n",
       "Masse                     0\n",
       "Matiere                   0\n",
       "description               0\n",
       "business                  0\n",
       "numberOfReferences        0\n",
       "price                     0\n",
       "traceability              0\n",
       "product                   0\n",
       "airTransportRatio         0\n",
       "materials                 0\n",
       "countrySpinning           0\n",
       "countryFabric             0\n",
       "countryDyeing             0\n",
       "countryMaking             0\n",
       "durability                0\n",
       "ecs_materials             0\n",
       "ecs_transformation        0\n",
       "ecs_complementsImpacts    0\n",
       "ecs_transport             0\n",
       "ecs_utilisation           0\n",
       "ecs_fin_de_vie            0\n",
       "Etapes                    0\n",
       "dtype: int64"
      ]
     },
     "execution_count": 4,
     "metadata": {},
     "output_type": "execute_result"
    }
   ],
   "source": [
    "# Afficher le nombre de valeurs manquantes du DataFrame\n",
    "df.isna().sum()"
   ]
  },
  {
   "cell_type": "code",
   "execution_count": 5,
   "id": "85100da6-b7ac-41cc-b09f-5abeb2d09578",
   "metadata": {},
   "outputs": [],
   "source": [
    "# Convertir la colonne 'airTransportRatio' en type : float\n",
    "df['airTransportRatio'] = df['airTransportRatio'].astype(float)"
   ]
  },
  {
   "cell_type": "code",
   "execution_count": 6,
   "id": "91e1a45b-c151-4cce-bcf1-e71da04b6819",
   "metadata": {
    "collapsed": true,
    "jupyter": {
     "outputs_hidden": true
    },
    "tags": []
   },
   "outputs": [
    {
     "data": {
      "text/html": [
       "<div>\n",
       "<style scoped>\n",
       "    .dataframe tbody tr th:only-of-type {\n",
       "        vertical-align: middle;\n",
       "    }\n",
       "\n",
       "    .dataframe tbody tr th {\n",
       "        vertical-align: top;\n",
       "    }\n",
       "\n",
       "    .dataframe thead th {\n",
       "        text-align: right;\n",
       "    }\n",
       "</style>\n",
       "<table border=\"1\" class=\"dataframe\">\n",
       "  <thead>\n",
       "    <tr style=\"text-align: right;\">\n",
       "      <th></th>\n",
       "      <th>ecs</th>\n",
       "      <th>Pays</th>\n",
       "      <th>Mode</th>\n",
       "      <th>Masse</th>\n",
       "      <th>Matiere</th>\n",
       "      <th>business</th>\n",
       "      <th>numberOfReferences</th>\n",
       "      <th>price</th>\n",
       "      <th>traceability</th>\n",
       "      <th>product</th>\n",
       "      <th>...</th>\n",
       "      <th>countryFabric</th>\n",
       "      <th>countryDyeing</th>\n",
       "      <th>countryMaking</th>\n",
       "      <th>durability</th>\n",
       "      <th>ecs_materials</th>\n",
       "      <th>ecs_transformation</th>\n",
       "      <th>ecs_complementsImpacts</th>\n",
       "      <th>ecs_transport</th>\n",
       "      <th>ecs_utilisation</th>\n",
       "      <th>ecs_fin_de_vie</th>\n",
       "    </tr>\n",
       "  </thead>\n",
       "  <tbody>\n",
       "    <tr>\n",
       "      <th>0</th>\n",
       "      <td>1161</td>\n",
       "      <td>Chine</td>\n",
       "      <td>Mode fast fashion</td>\n",
       "      <td>0.15</td>\n",
       "      <td>coton</td>\n",
       "      <td>large-business-without-services</td>\n",
       "      <td>12000</td>\n",
       "      <td>20</td>\n",
       "      <td>False</td>\n",
       "      <td>tshirt</td>\n",
       "      <td>...</td>\n",
       "      <td>CN</td>\n",
       "      <td>CN</td>\n",
       "      <td>CN</td>\n",
       "      <td>0.92</td>\n",
       "      <td>391.32</td>\n",
       "      <td>398.60</td>\n",
       "      <td>80.71</td>\n",
       "      <td>82.46</td>\n",
       "      <td>155.21</td>\n",
       "      <td>41.73</td>\n",
       "    </tr>\n",
       "    <tr>\n",
       "      <th>1</th>\n",
       "      <td>1546</td>\n",
       "      <td>Asie</td>\n",
       "      <td>Mode ultra fast fashion</td>\n",
       "      <td>0.15</td>\n",
       "      <td>synthetique</td>\n",
       "      <td>large-business-without-services</td>\n",
       "      <td>100000</td>\n",
       "      <td>10</td>\n",
       "      <td>False</td>\n",
       "      <td>tshirt</td>\n",
       "      <td>...</td>\n",
       "      <td>RAS</td>\n",
       "      <td>RAS</td>\n",
       "      <td>RAS</td>\n",
       "      <td>0.67</td>\n",
       "      <td>184.03</td>\n",
       "      <td>323.14</td>\n",
       "      <td>319.03</td>\n",
       "      <td>81.24</td>\n",
       "      <td>113.57</td>\n",
       "      <td>95.73</td>\n",
       "    </tr>\n",
       "    <tr>\n",
       "      <th>2</th>\n",
       "      <td>1905</td>\n",
       "      <td>Pays inconnu</td>\n",
       "      <td>Majorant par defaut</td>\n",
       "      <td>0.15</td>\n",
       "      <td>coton</td>\n",
       "      <td>large-business-without-services</td>\n",
       "      <td>100000</td>\n",
       "      <td>10</td>\n",
       "      <td>False</td>\n",
       "      <td>tshirt</td>\n",
       "      <td>...</td>\n",
       "      <td>---</td>\n",
       "      <td>---</td>\n",
       "      <td>---</td>\n",
       "      <td>0.67</td>\n",
       "      <td>484.58</td>\n",
       "      <td>525.62</td>\n",
       "      <td>110.82</td>\n",
       "      <td>74.69</td>\n",
       "      <td>113.57</td>\n",
       "      <td>41.73</td>\n",
       "    </tr>\n",
       "    <tr>\n",
       "      <th>3</th>\n",
       "      <td>445</td>\n",
       "      <td>France</td>\n",
       "      <td>Mode ethique</td>\n",
       "      <td>0.15</td>\n",
       "      <td>lin</td>\n",
       "      <td>small-business</td>\n",
       "      <td>200</td>\n",
       "      <td>30</td>\n",
       "      <td>True</td>\n",
       "      <td>tshirt</td>\n",
       "      <td>...</td>\n",
       "      <td>FR</td>\n",
       "      <td>FR</td>\n",
       "      <td>FR</td>\n",
       "      <td>1.45</td>\n",
       "      <td>101.44</td>\n",
       "      <td>204.25</td>\n",
       "      <td>51.21</td>\n",
       "      <td>17.17</td>\n",
       "      <td>246.07</td>\n",
       "      <td>41.73</td>\n",
       "    </tr>\n",
       "    <tr>\n",
       "      <th>4</th>\n",
       "      <td>508</td>\n",
       "      <td>France</td>\n",
       "      <td>Mode ethique</td>\n",
       "      <td>0.15</td>\n",
       "      <td>coton bio</td>\n",
       "      <td>small-business</td>\n",
       "      <td>200</td>\n",
       "      <td>30</td>\n",
       "      <td>True</td>\n",
       "      <td>tshirt</td>\n",
       "      <td>...</td>\n",
       "      <td>FR</td>\n",
       "      <td>FR</td>\n",
       "      <td>FR</td>\n",
       "      <td>1.45</td>\n",
       "      <td>191.94</td>\n",
       "      <td>204.25</td>\n",
       "      <td>51.21</td>\n",
       "      <td>18.05</td>\n",
       "      <td>246.07</td>\n",
       "      <td>41.73</td>\n",
       "    </tr>\n",
       "  </tbody>\n",
       "</table>\n",
       "<p>5 rows × 22 columns</p>\n",
       "</div>"
      ],
      "text/plain": [
       "    ecs          Pays                     Mode  Masse      Matiere  \\\n",
       "0  1161         Chine        Mode fast fashion   0.15        coton   \n",
       "1  1546          Asie  Mode ultra fast fashion   0.15  synthetique   \n",
       "2  1905  Pays inconnu      Majorant par defaut   0.15        coton   \n",
       "3   445        France             Mode ethique   0.15          lin   \n",
       "4   508        France             Mode ethique   0.15    coton bio   \n",
       "\n",
       "                          business  numberOfReferences  price  traceability  \\\n",
       "0  large-business-without-services               12000     20         False   \n",
       "1  large-business-without-services              100000     10         False   \n",
       "2  large-business-without-services              100000     10         False   \n",
       "3                   small-business                 200     30          True   \n",
       "4                   small-business                 200     30          True   \n",
       "\n",
       "  product  ...  countryFabric countryDyeing countryMaking durability  \\\n",
       "0  tshirt  ...             CN            CN            CN       0.92   \n",
       "1  tshirt  ...            RAS           RAS           RAS       0.67   \n",
       "2  tshirt  ...            ---           ---           ---       0.67   \n",
       "3  tshirt  ...             FR            FR            FR       1.45   \n",
       "4  tshirt  ...             FR            FR            FR       1.45   \n",
       "\n",
       "  ecs_materials  ecs_transformation  ecs_complementsImpacts  ecs_transport  \\\n",
       "0        391.32              398.60                   80.71          82.46   \n",
       "1        184.03              323.14                  319.03          81.24   \n",
       "2        484.58              525.62                  110.82          74.69   \n",
       "3        101.44              204.25                   51.21          17.17   \n",
       "4        191.94              204.25                   51.21          18.05   \n",
       "\n",
       "   ecs_utilisation  ecs_fin_de_vie  \n",
       "0           155.21           41.73  \n",
       "1           113.57           95.73  \n",
       "2           113.57           41.73  \n",
       "3           246.07           41.73  \n",
       "4           246.07           41.73  \n",
       "\n",
       "[5 rows x 22 columns]"
      ]
     },
     "execution_count": 6,
     "metadata": {},
     "output_type": "execute_result"
    }
   ],
   "source": [
    "# Supprimer les colonnes inutiles à l'étude du modèle de Machine Learning\n",
    "colonnes_a_supprimer = ['Libelle', 'Categorie', 'description', 'materials', 'Etapes']\n",
    "\n",
    "# Boucle pour vérifier et supprimer les colonnes si elles existent\n",
    "for colonne in colonnes_a_supprimer:\n",
    "    if colonne in df.columns:\n",
    "        df = df.drop(colonne, axis=1)\n",
    "\n",
    "# Affichage du résultat\n",
    "df.head()"
   ]
  },
  {
   "cell_type": "code",
   "execution_count": 7,
   "id": "d1cb94fd-c482-47d3-bb23-9f62e0f1f951",
   "metadata": {
    "collapsed": true,
    "jupyter": {
     "outputs_hidden": true
    },
    "tags": []
   },
   "outputs": [
    {
     "name": "stdout",
     "output_type": "stream",
     "text": [
      "target(y) : \n",
      "0    1161\n",
      "1    1546\n",
      "2    1905\n",
      "3     445\n",
      "4     508\n",
      "Name: ecs, dtype: int64\n",
      "\n",
      "\n",
      "feats(X) : \n",
      "           Pays                     Mode  Masse      Matiere  \\\n",
      "0         Chine        Mode fast fashion   0.15        coton   \n",
      "1          Asie  Mode ultra fast fashion   0.15  synthetique   \n",
      "2  Pays inconnu      Majorant par defaut   0.15        coton   \n",
      "3        France             Mode ethique   0.15          lin   \n",
      "4        France             Mode ethique   0.15    coton bio   \n",
      "\n",
      "                          business  numberOfReferences  price  traceability  \\\n",
      "0  large-business-without-services               12000     20         False   \n",
      "1  large-business-without-services              100000     10         False   \n",
      "2  large-business-without-services              100000     10         False   \n",
      "3                   small-business                 200     30          True   \n",
      "4                   small-business                 200     30          True   \n",
      "\n",
      "  product  airTransportRatio  ... countryFabric countryDyeing countryMaking  \\\n",
      "0  tshirt                1.0  ...            CN            CN            CN   \n",
      "1  tshirt                1.0  ...           RAS           RAS           RAS   \n",
      "2  tshirt                1.0  ...           ---           ---           ---   \n",
      "3  tshirt                1.0  ...            FR            FR            FR   \n",
      "4  tshirt                1.0  ...            FR            FR            FR   \n",
      "\n",
      "  durability  ecs_materials  ecs_transformation  ecs_complementsImpacts  \\\n",
      "0       0.92         391.32              398.60                   80.71   \n",
      "1       0.67         184.03              323.14                  319.03   \n",
      "2       0.67         484.58              525.62                  110.82   \n",
      "3       1.45         101.44              204.25                   51.21   \n",
      "4       1.45         191.94              204.25                   51.21   \n",
      "\n",
      "   ecs_transport  ecs_utilisation  ecs_fin_de_vie  \n",
      "0          82.46           155.21           41.73  \n",
      "1          81.24           113.57           95.73  \n",
      "2          74.69           113.57           41.73  \n",
      "3          17.17           246.07           41.73  \n",
      "4          18.05           246.07           41.73  \n",
      "\n",
      "[5 rows x 21 columns]\n"
     ]
    }
   ],
   "source": [
    "# Séparer les variables explicatives dans un Dataframe X et la variable cible 'ecs' dans un Dataframe y.\n",
    "y = df['ecs'] # target(y) contient la variable cible\n",
    "X = df.drop('ecs', axis=1) # feats(X) contient les variables explicatives\n",
    "# Afficher le résultat\n",
    "print(f\"target(y) : \\n{y.head()}\")\n",
    "print('\\n')\n",
    "print(f\"feats(X) : \\n{X.head()}\")"
   ]
  },
  {
   "cell_type": "markdown",
   "id": "a464591f-e3fb-49d3-bc74-7c49ae5aa335",
   "metadata": {},
   "source": [
    "##### <a name=\"tbm-10-02-02\" />[Séparer le jeu de données](#summaryUp)"
   ]
  },
  {
   "cell_type": "code",
   "execution_count": 8,
   "id": "a321b308-5548-48f3-8bdb-541eec5387d1",
   "metadata": {},
   "outputs": [],
   "source": [
    "# Séparer le jeu de données avec un jeu d'entraînement (X_train,y_train) et un jeu de test (X_test, y_test) de sorte \n",
    "# que la partie de test contient 25% du jeu de données initial.\n",
    "X_train, X_test, y_train, y_test = train_test_split(X, y, test_size=0.25, random_state = 42)"
   ]
  },
  {
   "cell_type": "markdown",
   "id": "9ba38188-02c7-470c-8a90-c89f406a693b",
   "metadata": {},
   "source": [
    "##### <a name=\"tbm-10-02-03\" />[Standardiser les variables numériques](#summaryUp)"
   ]
  },
  {
   "cell_type": "code",
   "execution_count": 9,
   "id": "0efba568-ac6b-4033-9546-fe4ccbcb8222",
   "metadata": {},
   "outputs": [],
   "source": [
    "# Standardiser les variables numériques à l'aide de StandardScaler : 'Masse', 'numberOfReferences', 'price', 'airTransportRatio', 'durability',\n",
    "# 'ecs_materials', 'ecs_transformation', 'ecs_complementsImpacts', 'ecs_transport', 'ecs_utilisation', 'ecs_fin_de_vie'\n",
    "cols = ['Masse', 'numberOfReferences', 'price', 'airTransportRatio', 'durability', 'ecs_materials', 'ecs_transformation', 'ecs_complementsImpacts',\n",
    "        'ecs_transport', 'ecs_utilisation', 'ecs_fin_de_vie']\n",
    "sc = StandardScaler()\n",
    "X_train[cols] = sc.fit_transform(X_train[cols])\n",
    "X_test[cols] = sc.transform(X_test[cols])"
   ]
  },
  {
   "cell_type": "markdown",
   "id": "5a754707-2123-4051-8ac3-ce7c8d774ad9",
   "metadata": {},
   "source": [
    "##### <a name=\"tbm-10-02-04\" />[Encoder les colonnes catégorielles](#summaryUp)"
   ]
  },
  {
   "cell_type": "code",
   "execution_count": 10,
   "id": "79527e37-8b10-434d-9339-b7e51da216a5",
   "metadata": {
    "collapsed": true,
    "jupyter": {
     "outputs_hidden": true
    },
    "tags": []
   },
   "outputs": [
    {
     "name": "stdout",
     "output_type": "stream",
     "text": [
      "X_train : \n",
      "       Masse  numberOfReferences     price  airTransportRatio  durability  \\\n",
      "13  1.344722           -1.214378  0.274077                0.0    0.085961   \n",
      "1  -0.635237            0.706124 -0.599089                0.0   -0.737066   \n",
      "21 -1.179725            0.706124 -0.861039                0.0   -0.737066   \n",
      "5  -0.635237           -1.421705  0.274077                0.0    1.304040   \n",
      "2  -0.635237            0.706124 -0.599089                0.0   -0.737066   \n",
      "\n",
      "    ecs_materials  ecs_transformation  ecs_complementsImpacts  ecs_transport  \\\n",
      "13       1.696849            0.909749                0.273052       1.708513   \n",
      "1       -0.835398           -0.715494                0.362197      -0.341414   \n",
      "21      -0.948565           -1.009514               -0.754450      -0.921279   \n",
      "5       -0.386446           -0.888057               -0.646404      -0.935475   \n",
      "2       -0.386446           -0.421605               -0.440957      -0.402992   \n",
      "\n",
      "    ecs_utilisation  ...  countryFabric_PK  countryFabric_RAS  \\\n",
      "13         0.531645  ...               0.0                0.0   \n",
      "1         -0.385794  ...               0.0                1.0   \n",
      "21        -1.598391  ...               0.0                0.0   \n",
      "5          0.912411  ...               0.0                0.0   \n",
      "2         -0.385794  ...               0.0                0.0   \n",
      "\n",
      "    countryDyeing_CN  countryDyeing_FR  countryDyeing_PK  countryDyeing_RAS  \\\n",
      "13               1.0               0.0               0.0                0.0   \n",
      "1                0.0               0.0               0.0                1.0   \n",
      "21               0.0               0.0               0.0                0.0   \n",
      "5                0.0               1.0               0.0                0.0   \n",
      "2                0.0               0.0               0.0                0.0   \n",
      "\n",
      "    countryMaking_CN  countryMaking_FR  countryMaking_PK  countryMaking_RAS  \n",
      "13               1.0               0.0               0.0                0.0  \n",
      "1                0.0               0.0               0.0                1.0  \n",
      "21               0.0               0.0               0.0                0.0  \n",
      "5                0.0               1.0               0.0                0.0  \n",
      "2                0.0               0.0               0.0                0.0  \n",
      "\n",
      "[5 rows x 52 columns]\n",
      "\n",
      "\n",
      "X_test : \n",
      "       Masse  numberOfReferences     price  airTransportRatio  durability  \\\n",
      "8   1.344722           -1.421705  2.020411                0.0    1.830777   \n",
      "16  3.324680            0.706124  0.710661                0.0   -0.638303   \n",
      "0  -0.635237           -1.214378 -0.162506                0.0    0.085961   \n",
      "18  0.107248            0.706124 -0.380798                0.0   -0.506619   \n",
      "11  1.344722           -1.471900  3.111869                0.0    1.304040   \n",
      "\n",
      "    ecs_materials  ecs_transformation  ecs_complementsImpacts  ecs_transport  \\\n",
      "8       -0.006149            0.046501               -0.144167      -0.531130   \n",
      "16       3.777082            4.033118                1.722943       3.376376   \n",
      "0       -0.525755           -0.605968               -0.557104      -0.329945   \n",
      "18       0.433093            0.567788               -0.094329       0.310087   \n",
      "11       5.400237           -0.019293                0.175922      -0.493337   \n",
      "\n",
      "    ecs_utilisation  ...  countryFabric_PK  countryFabric_RAS  \\\n",
      "8          1.830095  ...               0.0                0.0   \n",
      "16        -0.791667  ...               0.0                0.0   \n",
      "0          0.124180  ...               0.0                0.0   \n",
      "18        -0.429027  ...               0.0                0.0   \n",
      "11         1.397278  ...               0.0                0.0   \n",
      "\n",
      "    countryDyeing_CN  countryDyeing_FR  countryDyeing_PK  countryDyeing_RAS  \\\n",
      "8                0.0               1.0               0.0                0.0   \n",
      "16               0.0               0.0               0.0                0.0   \n",
      "0                1.0               0.0               0.0                0.0   \n",
      "18               0.0               0.0               0.0                0.0   \n",
      "11               0.0               1.0               0.0                0.0   \n",
      "\n",
      "    countryMaking_CN  countryMaking_FR  countryMaking_PK  countryMaking_RAS  \n",
      "8                0.0               1.0               0.0                0.0  \n",
      "16               0.0               0.0               0.0                0.0  \n",
      "0                1.0               0.0               0.0                0.0  \n",
      "18               0.0               0.0               0.0                0.0  \n",
      "11               0.0               1.0               0.0                0.0  \n",
      "\n",
      "[5 rows x 52 columns]\n"
     ]
    }
   ],
   "source": [
    "# Encoder les modalités des variables explicatives à l'aide d'un OneHotEncoder : 'Pays', 'Mode', 'Matiere', 'business', 'traceability', 'product', \n",
    "# 'countrySpinning', 'countryFabric', 'countryDyeing', 'countryMaking'\n",
    "\n",
    "# Initialisation du OneHotEncoder avec les paramètres appropriés\n",
    "# - Le paramètre drop = 'first' permet de supprimer l'une des colonnes créée par le OneHotEncoder\n",
    "#   et donc d'éviter un problème de multicolinéarité\n",
    "oneh = OneHotEncoder(drop='first', sparse_output=False, handle_unknown='ignore')\n",
    "\n",
    "# Liste des colonnes catégorielles à encoder\n",
    "cat = ['Pays', 'Mode', 'Matiere', 'business', 'traceability', 'product', 'countrySpinning', 'countryFabric', 'countryDyeing', 'countryMaking']\n",
    "\n",
    "# Création d'un DataFrame avec les nouvelles colonnes encodées\n",
    "# - Fit et transform sur X_train\n",
    "encoded_train = oneh.fit_transform(X_train[cat])\n",
    "encoded_train_df = pd.DataFrame(encoded_train, columns=oneh.get_feature_names_out(cat), index=X_train.index)\n",
    "\n",
    "# - Transform sur X_test\n",
    "encoded_test = oneh.transform(X_test[cat])\n",
    "encoded_test_df = pd.DataFrame(encoded_test, columns=oneh.get_feature_names_out(cat), index=X_test.index)\n",
    "\n",
    "# - Supprimer les colonnes catégorielles d'origine\n",
    "X_train = X_train.drop(columns=cat)\n",
    "X_test = X_test.drop(columns=cat)\n",
    "\n",
    "# Concaténer les colonnes encodées avec le DataFrame d'origine\n",
    "X_train = pd.concat([X_train, encoded_train_df], axis=1)\n",
    "X_test = pd.concat([X_test, encoded_test_df], axis=1)\n",
    "\n",
    "# Afficher le résultat\n",
    "print(f\"X_train : \\n{X_train.head()}\")\n",
    "print('\\n')\n",
    "print(f\"X_test : \\n{X_test.head()}\")"
   ]
  },
  {
   "cell_type": "markdown",
   "id": "e123ccd8-da21-4ec7-b962-4c62c40e686a",
   "metadata": {},
   "source": [
    "##### <a name=\"tbm-10-02-05\" />[Modéliser : Régression Linéaire - utiliser un modèle de régression](#summaryUp)"
   ]
  },
  {
   "cell_type": "markdown",
   "id": "c9b9e523-878c-41d7-a1aa-f4ed9989d4cf",
   "metadata": {},
   "source": [
    "<div class=\"warning\" style='background-color:#DFF2BF; color: #4F8A10; border-left: solid #4F8A10 4px; border-radius: 4px; padding:0.7em;'>\n",
    "<span>\n",
    "<p style='margin-top:1em; text-align:center'>\n",
    "<b>Utiliser un modèle de régression</b></p>\n",
    "<p style='margin-left:1em;'>\n",
    "    \n",
    "Pour prédire une **variable numérique continue** comme `ecs`, on peut utiliser des modèles tels que la régression linéaire, la régression Ridge, la régression Lasso, ou des modèles plus complexes comme les forêts aléatoires (Random Forest) ou les réseaux de neurones.\n",
    "\n",
    "</p>\n",
    "<p style='margin-bottom:1em; margin-right:1em; text-align:right; font-family:Georgia'> <b></b> <i></i>\n",
    "</p></span>\n",
    "</div>"
   ]
  },
  {
   "cell_type": "code",
   "execution_count": 11,
   "id": "ba9854f1-9ad8-48ee-99b7-4306ebbab137",
   "metadata": {
    "jupyter": {
     "source_hidden": true
    },
    "tags": []
   },
   "outputs": [
    {
     "name": "stdout",
     "output_type": "stream",
     "text": [
      "Mean Squared Error: 443982.6490384196\n",
      "R^2 Score: 0.9610584242618365\n",
      "Coefficient de détermination du modèle sur train: 1.0\n",
      "Coefficient de détermination du modèle sur test: 0.9610584242618365\n"
     ]
    }
   ],
   "source": [
    "# Instancier un modèle de régression linéaire\n",
    "linreg = LinearRegression()\n",
    "\n",
    "# Entraîner le modèle sur les données d'entraînement\n",
    "linreg.fit(X_train, y_train)\n",
    "\n",
    "# Prédire sur les données de test\n",
    "y_pred = linreg.predict(X_test)\n",
    "\n",
    "# Évaluer le modèle\n",
    "print('Mean Squared Error:', mean_squared_error(y_test, y_pred))\n",
    "print('R^2 Score:', r2_score(y_test, y_pred))\n",
    "\n",
    "# Afficher le score (R²) du modèle sur le jeu de données de d'entraînement et de test\n",
    "# Plus le coefficient de détermination est proche de 1, plus les données collent à la droite de régression.\n",
    "print('Coefficient de détermination du modèle sur train:', linreg.score(X_train, y_train))\n",
    "print('Coefficient de détermination du modèle sur test:', linreg.score(X_test, y_test))"
   ]
  },
  {
   "cell_type": "markdown",
   "id": "ad328c23-5993-409d-ad22-b53e17f9d407",
   "metadata": {},
   "source": [
    "<div class=\"warning\" style='background-color:#FFF9C4; color: #616161; border-left: solid #616161 4px; border-radius: 4px; padding:0.7em;'>\n",
    "<span>\n",
    "<p style='margin-top:1em; text-align:center'>\n",
    "<b>Régression Linéaire - Analyse des résultats</b></p>\n",
    "<p style='margin-left:1em;'>\n",
    "    \n",
    "Ces résultats montrent que le **modèle de régression linéaire** semble très performant.  \n",
    "Le **modèle de régression linéaire** semble bien ajusté aux données, avec une très bonne capacité explicative\n",
    "\n",
    "- **Mean Squared Error (MSE) :**  \n",
    "    \n",
    "> Le MSE mesure la moyenne des carrés des erreurs, c’est-à-dire la différence entre les valeurs prédites et les valeurs réelles. Un MSE plus bas indique un meilleur ajustement du modèle. Ici, bien que le chiffre semble élevé, il est important de le mettre en perspective avec l’échelle des données.\n",
    "\n",
    "- **R^2 Score :**\n",
    "    \n",
    "> Le coefficient de détermination ( R^2 ) indique la proportion de la variance des données qui est expliquée par le modèle. Une valeur de ( R^2 ) proche de 1 signifie que le modèle explique presque toute la variance des données. Avec un ( R^2 ) de 0.961, le modèle explique environ 96.1% de la variance, ce qui est excellent.  \n",
    "    \n",
    "</p>\n",
    "<p style='margin-bottom:1em; margin-right:1em; text-align:right; font-family:Georgia'> <b></b> <i></i>\n",
    "</p></span>\n",
    "</div>"
   ]
  },
  {
   "cell_type": "markdown",
   "id": "f7b45e5d-edcf-4c7e-be39-1c834dca5c95",
   "metadata": {},
   "source": [
    "##### <a name=\"tbm-10-02-06\" />[Modéliser : Régression Linéaire - calculer l'intercept (ordonnée à l’origine)](#summaryUp)"
   ]
  },
  {
   "cell_type": "code",
   "execution_count": 12,
   "id": "700976a0-88b5-452d-819e-acba30827991",
   "metadata": {
    "jupyter": {
     "source_hidden": true
    },
    "tags": []
   },
   "outputs": [
    {
     "name": "stdout",
     "output_type": "stream",
     "text": [
      "Intercept: 2445.7160216776174\n"
     ]
    }
   ],
   "source": [
    "# Intercept (ou ordonnée à l’origine) : valeur de la variable cible lorsque toutes les variables explicatives (indépendantes) \n",
    "# sont égales à zéro. En d’autres termes, c’est le point où la ligne de régression croise l’axe des y.\n",
    "\n",
    "# Afficher l'intercept\n",
    "intercept = linreg.intercept_\n",
    "print(f\"Intercept: {intercept}\")"
   ]
  },
  {
   "cell_type": "markdown",
   "id": "3a348229-a1bb-436e-86e8-3133bdf4f001",
   "metadata": {},
   "source": [
    "##### <a name=\"tbm-10-02-07\" />[Modéliser : Régression Linéaire - impact de chaque variable sur la variable cible](#summaryUp)"
   ]
  },
  {
   "cell_type": "code",
   "execution_count": 13,
   "id": "fd2a0f83-4326-4332-9ca6-5350050050d8",
   "metadata": {
    "jupyter": {
     "source_hidden": true
    },
    "tags": []
   },
   "outputs": [
    {
     "data": {
      "text/html": [
       "<div>\n",
       "<style scoped>\n",
       "    .dataframe tbody tr th:only-of-type {\n",
       "        vertical-align: middle;\n",
       "    }\n",
       "\n",
       "    .dataframe tbody tr th {\n",
       "        vertical-align: top;\n",
       "    }\n",
       "\n",
       "    .dataframe thead th {\n",
       "        text-align: right;\n",
       "    }\n",
       "</style>\n",
       "<table border=\"1\" class=\"dataframe\">\n",
       "  <thead>\n",
       "    <tr style=\"text-align: right;\">\n",
       "      <th></th>\n",
       "      <th>valeur estimée</th>\n",
       "    </tr>\n",
       "  </thead>\n",
       "  <tbody>\n",
       "    <tr>\n",
       "      <th>intercept</th>\n",
       "      <td>2445.716022</td>\n",
       "    </tr>\n",
       "    <tr>\n",
       "      <th>ecs_transformation</th>\n",
       "      <td>758.172006</td>\n",
       "    </tr>\n",
       "    <tr>\n",
       "      <th>ecs_materials</th>\n",
       "      <td>652.936732</td>\n",
       "    </tr>\n",
       "    <tr>\n",
       "      <th>ecs_transport</th>\n",
       "      <td>425.102037</td>\n",
       "    </tr>\n",
       "    <tr>\n",
       "      <th>Masse</th>\n",
       "      <td>412.330324</td>\n",
       "    </tr>\n",
       "    <tr>\n",
       "      <th>numberOfReferences</th>\n",
       "      <td>345.437832</td>\n",
       "    </tr>\n",
       "    <tr>\n",
       "      <th>countrySpinning_TR</th>\n",
       "      <td>178.751264</td>\n",
       "    </tr>\n",
       "    <tr>\n",
       "      <th>Pays_Pays inconnu</th>\n",
       "      <td>165.414084</td>\n",
       "    </tr>\n",
       "    <tr>\n",
       "      <th>ecs_complementsImpacts</th>\n",
       "      <td>150.323153</td>\n",
       "    </tr>\n",
       "    <tr>\n",
       "      <th>Matiere_synthetique</th>\n",
       "      <td>132.128601</td>\n",
       "    </tr>\n",
       "    <tr>\n",
       "      <th>ecs_utilisation</th>\n",
       "      <td>122.768769</td>\n",
       "    </tr>\n",
       "    <tr>\n",
       "      <th>Pays_France</th>\n",
       "      <td>122.117995</td>\n",
       "    </tr>\n",
       "    <tr>\n",
       "      <th>countryMaking_FR</th>\n",
       "      <td>122.117995</td>\n",
       "    </tr>\n",
       "    <tr>\n",
       "      <th>countryFabric_FR</th>\n",
       "      <td>122.117995</td>\n",
       "    </tr>\n",
       "    <tr>\n",
       "      <th>countryDyeing_FR</th>\n",
       "      <td>122.117995</td>\n",
       "    </tr>\n",
       "    <tr>\n",
       "      <th>product_pull</th>\n",
       "      <td>99.483665</td>\n",
       "    </tr>\n",
       "    <tr>\n",
       "      <th>product_jean</th>\n",
       "      <td>99.016197</td>\n",
       "    </tr>\n",
       "    <tr>\n",
       "      <th>product_maillot-de-bain</th>\n",
       "      <td>97.677338</td>\n",
       "    </tr>\n",
       "    <tr>\n",
       "      <th>ecs_fin_de_vie</th>\n",
       "      <td>87.348672</td>\n",
       "    </tr>\n",
       "    <tr>\n",
       "      <th>product_tshirt</th>\n",
       "      <td>55.929088</td>\n",
       "    </tr>\n",
       "    <tr>\n",
       "      <th>Matiere_lin</th>\n",
       "      <td>43.772672</td>\n",
       "    </tr>\n",
       "    <tr>\n",
       "      <th>Matiere_coton bio</th>\n",
       "      <td>14.988025</td>\n",
       "    </tr>\n",
       "    <tr>\n",
       "      <th>Mode_Mode ethique</th>\n",
       "      <td>2.127428</td>\n",
       "    </tr>\n",
       "    <tr>\n",
       "      <th>business_small-business</th>\n",
       "      <td>2.127428</td>\n",
       "    </tr>\n",
       "    <tr>\n",
       "      <th>traceability_True</th>\n",
       "      <td>2.127428</td>\n",
       "    </tr>\n",
       "    <tr>\n",
       "      <th>airTransportRatio</th>\n",
       "      <td>-0.000000</td>\n",
       "    </tr>\n",
       "    <tr>\n",
       "      <th>countrySpinning_RAS</th>\n",
       "      <td>-2.974914</td>\n",
       "    </tr>\n",
       "    <tr>\n",
       "      <th>Mode_Mode ultra fast fashion</th>\n",
       "      <td>-2.974914</td>\n",
       "    </tr>\n",
       "    <tr>\n",
       "      <th>countryDyeing_RAS</th>\n",
       "      <td>-2.974914</td>\n",
       "    </tr>\n",
       "    <tr>\n",
       "      <th>countryFabric_RAS</th>\n",
       "      <td>-2.974914</td>\n",
       "    </tr>\n",
       "    <tr>\n",
       "      <th>countryMaking_RAS</th>\n",
       "      <td>-2.974914</td>\n",
       "    </tr>\n",
       "    <tr>\n",
       "      <th>product_slip</th>\n",
       "      <td>-5.483791</td>\n",
       "    </tr>\n",
       "    <tr>\n",
       "      <th>product_chemise</th>\n",
       "      <td>-25.645626</td>\n",
       "    </tr>\n",
       "    <tr>\n",
       "      <th>Mode_Mode traditionnelle</th>\n",
       "      <td>-27.405511</td>\n",
       "    </tr>\n",
       "    <tr>\n",
       "      <th>product_pantalon</th>\n",
       "      <td>-35.889241</td>\n",
       "    </tr>\n",
       "    <tr>\n",
       "      <th>product_chaussettes</th>\n",
       "      <td>-36.088001</td>\n",
       "    </tr>\n",
       "    <tr>\n",
       "      <th>Matiere_polyester</th>\n",
       "      <td>-37.426177</td>\n",
       "    </tr>\n",
       "    <tr>\n",
       "      <th>Matiere_laine paysane</th>\n",
       "      <td>-56.633269</td>\n",
       "    </tr>\n",
       "    <tr>\n",
       "      <th>countrySpinning_FR</th>\n",
       "      <td>-56.633269</td>\n",
       "    </tr>\n",
       "    <tr>\n",
       "      <th>durability</th>\n",
       "      <td>-106.651647</td>\n",
       "    </tr>\n",
       "    <tr>\n",
       "      <th>business_large-business-without-services</th>\n",
       "      <td>-135.436304</td>\n",
       "    </tr>\n",
       "    <tr>\n",
       "      <th>Pays_Chine</th>\n",
       "      <td>-137.161088</td>\n",
       "    </tr>\n",
       "    <tr>\n",
       "      <th>countryFabric_CN</th>\n",
       "      <td>-137.161088</td>\n",
       "    </tr>\n",
       "    <tr>\n",
       "      <th>countrySpinning_CN</th>\n",
       "      <td>-137.161088</td>\n",
       "    </tr>\n",
       "    <tr>\n",
       "      <th>countryDyeing_CN</th>\n",
       "      <td>-137.161088</td>\n",
       "    </tr>\n",
       "    <tr>\n",
       "      <th>Mode_Mode fast fashion</th>\n",
       "      <td>-137.161088</td>\n",
       "    </tr>\n",
       "    <tr>\n",
       "      <th>countryMaking_CN</th>\n",
       "      <td>-137.161088</td>\n",
       "    </tr>\n",
       "    <tr>\n",
       "      <th>Pays_Pakistan</th>\n",
       "      <td>-147.396077</td>\n",
       "    </tr>\n",
       "    <tr>\n",
       "      <th>countrySpinning_PK</th>\n",
       "      <td>-160.714386</td>\n",
       "    </tr>\n",
       "    <tr>\n",
       "      <th>countryFabric_PK</th>\n",
       "      <td>-160.714386</td>\n",
       "    </tr>\n",
       "    <tr>\n",
       "      <th>countryDyeing_PK</th>\n",
       "      <td>-160.714386</td>\n",
       "    </tr>\n",
       "    <tr>\n",
       "      <th>countryMaking_PK</th>\n",
       "      <td>-160.714386</td>\n",
       "    </tr>\n",
       "    <tr>\n",
       "      <th>price</th>\n",
       "      <td>-376.337883</td>\n",
       "    </tr>\n",
       "  </tbody>\n",
       "</table>\n",
       "</div>"
      ],
      "text/plain": [
       "                                          valeur estimée\n",
       "intercept                                    2445.716022\n",
       "ecs_transformation                            758.172006\n",
       "ecs_materials                                 652.936732\n",
       "ecs_transport                                 425.102037\n",
       "Masse                                         412.330324\n",
       "numberOfReferences                            345.437832\n",
       "countrySpinning_TR                            178.751264\n",
       "Pays_Pays inconnu                             165.414084\n",
       "ecs_complementsImpacts                        150.323153\n",
       "Matiere_synthetique                           132.128601\n",
       "ecs_utilisation                               122.768769\n",
       "Pays_France                                   122.117995\n",
       "countryMaking_FR                              122.117995\n",
       "countryFabric_FR                              122.117995\n",
       "countryDyeing_FR                              122.117995\n",
       "product_pull                                   99.483665\n",
       "product_jean                                   99.016197\n",
       "product_maillot-de-bain                        97.677338\n",
       "ecs_fin_de_vie                                 87.348672\n",
       "product_tshirt                                 55.929088\n",
       "Matiere_lin                                    43.772672\n",
       "Matiere_coton bio                              14.988025\n",
       "Mode_Mode ethique                               2.127428\n",
       "business_small-business                         2.127428\n",
       "traceability_True                               2.127428\n",
       "airTransportRatio                              -0.000000\n",
       "countrySpinning_RAS                            -2.974914\n",
       "Mode_Mode ultra fast fashion                   -2.974914\n",
       "countryDyeing_RAS                              -2.974914\n",
       "countryFabric_RAS                              -2.974914\n",
       "countryMaking_RAS                              -2.974914\n",
       "product_slip                                   -5.483791\n",
       "product_chemise                               -25.645626\n",
       "Mode_Mode traditionnelle                      -27.405511\n",
       "product_pantalon                              -35.889241\n",
       "product_chaussettes                           -36.088001\n",
       "Matiere_polyester                             -37.426177\n",
       "Matiere_laine paysane                         -56.633269\n",
       "countrySpinning_FR                            -56.633269\n",
       "durability                                   -106.651647\n",
       "business_large-business-without-services     -135.436304\n",
       "Pays_Chine                                   -137.161088\n",
       "countryFabric_CN                             -137.161088\n",
       "countrySpinning_CN                           -137.161088\n",
       "countryDyeing_CN                             -137.161088\n",
       "Mode_Mode fast fashion                       -137.161088\n",
       "countryMaking_CN                             -137.161088\n",
       "Pays_Pakistan                                -147.396077\n",
       "countrySpinning_PK                           -160.714386\n",
       "countryFabric_PK                             -160.714386\n",
       "countryDyeing_PK                             -160.714386\n",
       "countryMaking_PK                             -160.714386\n",
       "price                                        -376.337883"
      ]
     },
     "execution_count": 13,
     "metadata": {},
     "output_type": "execute_result"
    }
   ],
   "source": [
    "# Coefficients associés à chaque variable explicative, indiquant l’impact de chaque variable sur la variable cible.\n",
    "# Afficher les coefficients\n",
    "\n",
    "coeffs = list(linreg.coef_)\n",
    "coeffs.insert(0, linreg.intercept_)\n",
    "\n",
    "feats2 = list(X_train.columns)\n",
    "feats2.insert(0, 'intercept')\n",
    "\n",
    "# Afficher les valeurs en notation standard\n",
    "pd.options.display.float_format = '{:.6f}'.format\n",
    "\n",
    "# Créer le DataFrame\n",
    "df_coeffs = pd.DataFrame({'valeur estimée': coeffs}, index=feats2)\n",
    "\n",
    "# Séparer l'intercept des autres coefficients\n",
    "intercept_row = df_coeffs.loc[['intercept']]\n",
    "other_rows = df_coeffs.drop(index='intercept')\n",
    "\n",
    "# Trier les autres coefficients par ordre décroissant\n",
    "sorted_other_rows = other_rows.sort_values(by='valeur estimée', ascending=False)\n",
    "\n",
    "# Concaténer l'intercept avec les autres coefficients triés\n",
    "df_sorted = pd.concat([intercept_row, sorted_other_rows])\n",
    "\n",
    "# Afficher le DataFrame trié\n",
    "df_sorted"
   ]
  },
  {
   "cell_type": "markdown",
   "id": "9d701da2-5147-40b4-a676-f92b1838381d",
   "metadata": {},
   "source": [
    "<div class=\"warning\" style='background-color:#FFF9C4; color: #616161; border-left: solid #616161 4px; border-radius: 4px; padding:0.7em;'>\n",
    "<span>\n",
    "<p style='margin-top:1em; text-align:center'>\n",
    "<b>Régression Linéaire - Impact des variables - Analyse du résultat</b></p>\n",
    "<p style='margin-left:1em;'>\n",
    "    \n",
    "Les *coefficients* permettent de comprendre l’impact de chaque variable explicative sur la variable cible.  \n",
    "Un *coefficient positif* indique une relation positive, tandis qu’un *coefficient négatif* indique une relation négative.  \n",
    "En analysant ces *coefficients*, on peut identifier quelles variables ont le plus d’influence sur la variable cible et dans quelle direction. \n",
    "    \n",
    "</p>\n",
    "<p style='margin-bottom:1em; margin-right:1em; text-align:right; font-family:Georgia'> <b></b> <i></i>\n",
    "</p></span>\n",
    "</div>"
   ]
  },
  {
   "cell_type": "markdown",
   "id": "01c21ea4-d886-4d23-85c5-8af08aef672e",
   "metadata": {},
   "source": [
    "##### <a name=\"tbm-10-02-08\" />[Modéliser : Régression Linéaire - graphique de prédiction de l'ecoscore 'ecs'](#summaryUp)"
   ]
  },
  {
   "cell_type": "code",
   "execution_count": 14,
   "id": "f7ea9d38-67ba-4483-a061-9a45c94b911a",
   "metadata": {
    "jupyter": {
     "source_hidden": true
    },
    "tags": []
   },
   "outputs": [
    {
     "data": {
      "image/png": "[encoded data removed]",
      "text/plain": [
       "<Figure size 600x600 with 1 Axes>"
      ]
     },
     "metadata": {},
     "output_type": "display_data"
    }
   ],
   "source": [
    "fig = plt.figure(figsize = (6,6))\n",
    "pred_test = linreg.predict(X_test)\n",
    "plt.scatter(pred_test, y_test, c='green')\n",
    "\n",
    "plt.plot((y_test.min(), y_test.max()), (y_test.min(), y_test.max()), color = 'red')\n",
    "plt.xlabel(\"prediction\")\n",
    "plt.ylabel(\"vrai valeur\")\n",
    "plt.title(\"Régression Linéaire pour la prédiction de l'ecoscore : ecs\")\n",
    "\n",
    "plt.show()"
   ]
  },
  {
   "cell_type": "markdown",
   "id": "ed7f296b-777c-4ff0-b335-3fb464c15f68",
   "metadata": {},
   "source": [
    "##### <a name=\"tbm-10-02-09\" />[Modéliser : Régression d’Arbre de Décision - coefficients de détermination ( R^2 )](#summaryUp)"
   ]
  },
  {
   "cell_type": "code",
   "execution_count": 15,
   "id": "f389dfb7-e71d-4464-9b93-cb5b79dc0393",
   "metadata": {
    "jupyter": {
     "source_hidden": true
    },
    "tags": []
   },
   "outputs": [
    {
     "name": "stdout",
     "output_type": "stream",
     "text": [
      "1.0\n",
      "0.5112375785064975\n"
     ]
    }
   ],
   "source": [
    "regressor = DecisionTreeRegressor(random_state=42)   \n",
    "regressor.fit(X_train, y_train)\n",
    "\n",
    "# problème de surajustement. Le modèle ne généralise pas bien aux nouvelles données.\n",
    "print(regressor.score(X_train,y_train)) # surajustement (overfitting)\n",
    "print(regressor.score(X_test,y_test))"
   ]
  },
  {
   "cell_type": "markdown",
   "id": "e76d0bdc-197e-4200-a012-0574ebe28a75",
   "metadata": {},
   "source": [
    "<div class=\"warning\" style='background-color:#FFF9C4; color: #616161; border-left: solid #616161 4px; border-radius: 4px; padding:0.7em;'>\n",
    "<span>\n",
    "<p style='margin-top:1em; text-align:center'>\n",
    "<b>Régression d'Arbre de Décision - Analyse du résultat</b></p>\n",
    "<p style='margin-left:1em;'>\n",
    "    \n",
    "Les scores obtenus sont les coefficients de détermination ( R^2 ) pour les ensembles d’entraînement et de test.\n",
    "\n",
    "Pour interpréter ces résultats :\n",
    "\n",
    "**Score sur l’ensemble d’entraînement (1.0) :**  \n",
    "Un score de 1.0 signifie que le modèle prédit parfaitement les données d’entraînement. Cela indique un **surajustement** (*overfitting*), où le modèle a appris les détails et le bruit des données d’entraînement au lieu de généraliser à de nouvelles données.\n",
    "\n",
    "**Score sur l’ensemble de test (0.466) :**  \n",
    "Un score de 0.466 signifie que le modèle ne généralise pas bien aux nouvelles données. En d’autres termes, il n’explique que 46.6% de la variance des données de test, ce qui est relativement faible.\n",
    "    \n",
    "Le **surajustement** se produit souvent avec des modèles complexes comme les arbres de décision, surtout si aucune technique de régularisation n’est utilisée. Pour améliorer la généralisation du modèle, on peut essayer les approches suivantes :\n",
    "\n",
    "- **Élagage de l’arbre (pruning) :** \n",
    "> Réduire la complexité de l’arbre en limitant sa profondeur ou le nombre de feuilles.\n",
    "\n",
    "- **Utilisation d’ensembles (ensemble methods) :** \n",
    "> Techniques comme les forêts aléatoires (*Random Forests*) ou les arbres de décision boostés (*Gradient Boosting*) pouvant aider à réduire le **surajustement**.     \n",
    "    \n",
    "</p>\n",
    "<p style='margin-bottom:1em; margin-right:1em; text-align:right; font-family:Georgia'> <b></b> <i></i>\n",
    "</p></span>\n",
    "</div>"
   ]
  },
  {
   "cell_type": "markdown",
   "id": "154e762e-622a-404d-a13c-ea7e15951fb4",
   "metadata": {},
   "source": [
    "##### <a name=\"tbm-10-02-10\" />[Modéliser : Régression d’Arbre de Décision - importance des variables](#summaryUp)"
   ]
  },
  {
   "cell_type": "code",
   "execution_count": 16,
   "id": "50527d71-18bb-4ccd-b726-3f437310d5f2",
   "metadata": {
    "jupyter": {
     "source_hidden": true
    },
    "tags": []
   },
   "outputs": [
    {
     "data": {
      "image/png": "[encoded data removed]",
      "text/plain": [
       "<Figure size 800x600 with 1 Axes>"
      ]
     },
     "metadata": {},
     "output_type": "display_data"
    }
   ],
   "source": [
    "# Utiliser l'arbre de décision pour afficher l'importance des toutes les variables.\n",
    "feat_importances = pd.DataFrame(regressor.feature_importances_, index=X_train.columns, columns=[\"Importance\"])\n",
    "feat_importances.sort_values(by='Importance', ascending=False, inplace=True)\n",
    "feat_importances.plot(kind='bar', figsize=(8,6))\n",
    "plt.show()"
   ]
  },
  {
   "cell_type": "markdown",
   "id": "c231d8bb-bc19-4ec9-ac87-6a737e0cb1be",
   "metadata": {},
   "source": [
    "##### <a name=\"tbm-10-02-11\" />[Modéliser : Régression d’Arbre de Décision - filtrer les variables les plus importantes & recalculer](#summaryUp)"
   ]
  },
  {
   "cell_type": "code",
   "execution_count": 17,
   "id": "bdaa850c-4524-45bc-addc-8f25c4f2047d",
   "metadata": {
    "jupyter": {
     "source_hidden": true
    },
    "tags": []
   },
   "outputs": [
    {
     "name": "stdout",
     "output_type": "stream",
     "text": [
      "1.0\n",
      "0.4598455537800086\n"
     ]
    }
   ],
   "source": [
    "# Réentrainer le modèle en ne gardant que les quatre variables les plus importantes. Comparer ces résultats avec le modèle précédent. \n",
    "\n",
    "X_train_reduced = X_train[['ecs_transport','ecs_complementsImpacts','ecs_transformation','ecs_materials']].copy()\n",
    "X_test_reduced = X_test[['ecs_transport','ecs_complementsImpacts','ecs_transformation','ecs_materials']].copy()\n",
    "\n",
    "regressor = DecisionTreeRegressor(random_state=42) \n",
    "  \n",
    "regressor.fit(X_train_reduced , y_train)\n",
    "\n",
    "print(regressor.score(X_train_reduced,y_train))\n",
    "print(regressor.score(X_test_reduced,y_test))"
   ]
  },
  {
   "cell_type": "markdown",
   "id": "4d226c92-19e5-4931-b70e-8d9b56c786fd",
   "metadata": {},
   "source": [
    "<div class=\"warning\" style='background-color:#FFF9C4; color: #616161; border-left: solid #616161 4px; border-radius: 4px; padding:0.7em;'>\n",
    "<span>\n",
    "<p style='margin-top:1em; text-align:center'>\n",
    "<b>Régression d'Arbres de Décision - réduire les variables - Analyse des résultats</b></p>\n",
    "<p style='margin-left:1em;'>\n",
    "    \n",
    "- **Surajustement persistant :** \n",
    "> Les deux modèles montrent un score parfait sur l’ensemble d’entraînement, ce qui indique que le problème de surajustement persiste même après la réduction des variables.\n",
    "    \n",
    "- **Performance sur l’ensemble de test :**\n",
    "> La réduction des variables n’a pas amélioré la performance sur l’ensemble de test. En fait, le score a seulement légèrement diminué.     \n",
    "    \n",
    "</p>\n",
    "<p style='margin-bottom:1em; margin-right:1em; text-align:right; font-family:Georgia'> <b></b> <i></i>\n",
    "</p></span>\n",
    "</div>"
   ]
  },
  {
   "cell_type": "markdown",
   "id": "7d20ba59-b361-43c7-8c69-3568d81563f1",
   "metadata": {},
   "source": [
    "##### <a name=\"tbm-10-02-12\" />[Modéliser : Régression d’Arbre de Décision - graphique (profondeur maximale de 2)](#summaryUp)"
   ]
  },
  {
   "cell_type": "code",
   "execution_count": 18,
   "id": "907c5bf9-4af9-463b-9a4c-90dfe98c98e6",
   "metadata": {
    "jupyter": {
     "source_hidden": true
    },
    "tags": []
   },
   "outputs": [
    {
     "data": {
      "image/png": "[encoded data removed]",
      "text/plain": [
       "<Figure size 2000x2000 with 1 Axes>"
      ]
     },
     "metadata": {},
     "output_type": "display_data"
    }
   ],
   "source": [
    "# Arbre de Décision : graphique - profondeur maximale de 2\n",
    "regressor = DecisionTreeRegressor(random_state=42, max_depth = 2) \n",
    "  \n",
    "regressor.fit(X_train[['ecs_transport','ecs_complementsImpacts','ecs_transformation','ecs_materials']], y_train)\n",
    "\n",
    "fig, ax = plt.subplots(figsize=(20, 20))  \n",
    "\n",
    "plot_tree(regressor, \n",
    "          feature_names = ['ecs_transport','ecs_complementsImpacts','ecs_transformation','ecs_materials'], \n",
    "          filled = True, \n",
    "          rounded = True)\n",
    "\n",
    "plt.show()"
   ]
  },
  {
   "cell_type": "markdown",
   "id": "ae47f9cb-2b34-4b63-b873-035e3caaed5a",
   "metadata": {},
   "source": [
    "<div class=\"warning\" style='background-color:#FFF9C4; color: #616161; border-left: solid #616161 4px; border-radius: 4px; padding:0.7em;'>\n",
    "<span>\n",
    "<p style='margin-top:1em; text-align:center'>\n",
    "<b>Régression d'Arbre de Décision - Graphique - Analyse du résultat</b></p>\n",
    "<p style='margin-left:1em;'>\n",
    "    \n",
    "Le noeud racine (le premier noeud), contient tous les échantillons du jeu d'entraînement. Ici il y a 18 échantillons : `samples=18`. Il représente la première décision basée sur la variable la plus importante.     \n",
    "\n",
    "Le premier test réalisé correspond à `ecs_transport <= 0.546`. Si oui, ces échantillons vont dans le noeud enfant de gauche, si non dans le noeud enfant de droite.    \n",
    "    \n",
    "La valeur moyenne de l'impact environnemental du transport (sur tous les échantillons contenus dans `y_train`) est égale à 2517.611 :  \n",
    "`value = 2517.611`.\n",
    "\n",
    "La mesure de l'erreur choisie est ici \"Squared Error\" (ou erreur quadratique) : `squared_error = 4566215.238`. Elle représente la somme des carrés des différences entre les valeurs prédites par le modèle et les valeurs réelles observées.  \n",
    "\n",
    "**Plus cette valeur est faible, plus le modèle est précis. Une valeur élevée indique que les prédictions du modèle s’éloignent considérablement des valeurs réelles.**\n",
    "    \n",
    "Les feuilles montrent les prédictions finales. Par exemple, pour les échantillons qui ont `ecs_transport < 0.5` et `ecs_transformation < -0.8`, la prédiction moyenne est `value = 586.0`.       \n",
    "    \n",
    "</p>\n",
    "<p style='margin-bottom:1em; margin-right:1em; text-align:right; font-family:Georgia'> <b></b> <i></i>\n",
    "</p></span>\n",
    "</div>"
   ]
  },
  {
   "cell_type": "markdown",
   "id": "7d620c3b-b6d2-4714-ad2b-94b39e76712a",
   "metadata": {},
   "source": [
    "##### <a name=\"tbm-10-02-13\" />[Modéliser : Régression par Forêt Aléatoire - scores de performance](#summaryUp)"
   ]
  },
  {
   "cell_type": "code",
   "execution_count": 19,
   "id": "26fbc73d-d964-4591-a6c3-cec24930efa5",
   "metadata": {
    "jupyter": {
     "source_hidden": true
    },
    "tags": []
   },
   "outputs": [
    {
     "name": "stdout",
     "output_type": "stream",
     "text": [
      "0.9805288283901236\n",
      "0.5093857884274721\n"
     ]
    }
   ],
   "source": [
    "# Random Forest\n",
    "from sklearn.ensemble import RandomForestRegressor \n",
    "  \n",
    "regressor = RandomForestRegressor(random_state=42)   \n",
    "regressor.fit(X_train, y_train)\n",
    "\n",
    "# renvoie le coefficient de détermination ( R^2 ), qui : \n",
    "# mesure la proportion de la variance de la variable cible expliquée par les caractéristiques\n",
    "print(regressor.score(X_train,y_train))\n",
    "print(regressor.score(X_test,y_test))\n"
   ]
  },
  {
   "cell_type": "markdown",
   "id": "a0569955-cb2f-48e5-b3c2-abab96aa4e14",
   "metadata": {},
   "source": [
    "<div class=\"warning\" style='background-color:#FFF9C4; color: #616161; border-left: solid #616161 4px; border-radius: 4px; padding:0.7em;'>\n",
    "<span>\n",
    "<p style='margin-top:1em; text-align:center'>\n",
    "<b>Régression par Forêt Aléatoire - Analyse des résultats</b></p>\n",
    "<p style='margin-left:1em;'>\n",
    "    \n",
    "- **Score sur l’ensemble d’entraînement :**\n",
    "    \n",
    "> Ce score est très proche de 1, ce qui indique que le modèle explique environ 98% de la variance des données d’entraînement. Cela signifie que le modèle s’ajuste très bien aux données sur lesquelles il a été entraîné.\n",
    "    \n",
    "- **Score sur l’ensemble de test :**\n",
    "    \n",
    "> Ce score est significativement plus bas, autour de 0.51, ce qui indique que le modèle explique environ 51% de la variance des données de test.\n",
    "    \n",
    "- **Analyse des résultats :**\n",
    "\n",
    "> **Surapprentissage (Overfitting) :**  \n",
    ">> La grande différence entre les scores d’entraînement et de test suggère que le modèle peut être en situation de surapprentissage. Cela signifie qu’il a appris les détails et le bruit des données d’entraînement au point de perdre sa capacité à généraliser sur des données nouvelles et non vues.  \n",
    "\n",
    "> **Performance sur les données de test :**  \n",
    ">> Un score de 0.51 sur les données de test indique que le modèle a une performance modérée sur des données nouvelles. Il y a de la place pour l’amélioration, soit en ajustant les hyperparamètres du modèle, soit en utilisant des techniques de régularisation pour réduire le surapprentissage.  \n",
    "\n",
    "- **Suggestions pour améliorer le modèle :**\n",
    "    \n",
    "> **Régularisation :** \n",
    ">> Utiliser des techniques comme la réduction de la profondeur maximale des arbres, l’augmentation du nombre minimal d’échantillons par feuille, ou la réduction du nombre d’estimations (arbres) pour éviter le surapprentissage.\n",
    "\n",
    "> **Validation croisée :**  \n",
    ">> Utiliser la validation croisée pour évaluer la performance du modèle de manière plus robuste et éviter les biais liés à une seule partition des données.\n",
    "    \n",
    "> **Hyperparamètres :**  \n",
    ">> Ajuster les hyperparamètres du modèle en utilisant des techniques comme la recherche par grille (`GridSearchCV`) ou la recherche aléatoire (`RandomizedSearchCV`) pour trouver les meilleures combinaisons.\n",
    "    \n",
    "> **Enrichissement des données :**  \n",
    ">> <span style=\"color: red;\"><b>Si possible, ajouter plus de données ou des caractéristiques supplémentaires qui pourraient aider le modèle à mieux généraliser.</b></span>    \n",
    "    \n",
    "</p>\n",
    "<p style='margin-bottom:1em; margin-right:1em; text-align:right; font-family:Georgia'> <b></b> <i></i>\n",
    "</p></span>\n",
    "</div>"
   ]
  },
  {
   "cell_type": "markdown",
   "id": "22bb3d2b-25de-428a-8809-ea4d16228863",
   "metadata": {},
   "source": [
    "##### <a name=\"tbm-10-02-14\" />[Modéliser : Régression par Forêt Aléatoire / Arbre de Décision - comparaison des performances](#summaryUp)"
   ]
  },
  {
   "cell_type": "code",
   "execution_count": 20,
   "id": "4688416d-4021-4b43-a2ab-8d5fdbf25cf5",
   "metadata": {
    "jupyter": {
     "source_hidden": true
    },
    "tags": []
   },
   "outputs": [
    {
     "name": "stdout",
     "output_type": "stream",
     "text": [
      "                MAE train    MAE test    MSE train       MSE test  RMSE train  \\\n",
      "Decision Tree    0.000000 1744.666667     0.000000 5572502.666667    0.000000   \n",
      "Random Forest  222.772222 1604.061667 88909.560500 5593615.388717  298.177062   \n",
      "\n",
      "                 RMSE test  \n",
      "Decision Tree  2360.614892  \n",
      "Random Forest  2365.082533  \n"
     ]
    }
   ],
   "source": [
    "# compare les performances de deux modèles de régression : \n",
    "# - un arbre de décision (DecisionTreeRegressor) et \n",
    "# - une forêt aléatoire (RandomForestRegressor)\n",
    "\n",
    "# Les métriques d’évaluation (erreur absolue moyenne, erreur quadratique moyenne et racine de l’erreur quadratique moyenne) \n",
    "# sont calculées pour les ensembles d’entraînement et de test\n",
    "\n",
    "# permet de déterminer quel modèle est le plus performant pour les données fournies\n",
    "\n",
    "import sklearn.metrics\n",
    "from sklearn.metrics import mean_squared_error\n",
    "from sklearn.metrics import mean_absolute_error\n",
    "\n",
    "### DecisionTree\n",
    "\n",
    "regressor_decision_tree = DecisionTreeRegressor(random_state=42) \n",
    "  \n",
    "regressor_decision_tree.fit(X_train, y_train)\n",
    "\n",
    "\n",
    "y_pred_decision_tree = regressor_decision_tree.predict(X_test)\n",
    "y_pred_train_decision_tree = regressor_decision_tree.predict(X_train)\n",
    "\n",
    "# Calcul des métriques\n",
    "\n",
    "# jeu d'entraînement \n",
    "mae_decision_tree_train = mean_absolute_error(y_train,y_pred_train_decision_tree)\n",
    "mse_decision_tree_train = mean_squared_error(y_train,y_pred_train_decision_tree,squared=True)\n",
    "rmse_decision_tree_train = mean_squared_error(y_train,y_pred_train_decision_tree,squared=False)\n",
    "\n",
    "# jeu de test \n",
    "mae_decision_tree_test = mean_absolute_error(y_test,y_pred_decision_tree)\n",
    "mse_decision_tree_test = mean_squared_error(y_test,y_pred_decision_tree,squared=True)\n",
    "rmse_decision_tree_test = mean_squared_error(y_test,y_pred_decision_tree,squared=False)\n",
    "\n",
    "\n",
    "### RandomForest\n",
    "\n",
    "regressor_random_forest = RandomForestRegressor(random_state=42) \n",
    "  \n",
    "regressor_random_forest.fit(X_train, y_train)\n",
    "\n",
    "# Calcul des métriques \n",
    "y_pred_random_forest = regressor_random_forest.predict(X_test)\n",
    "y_pred_random_forest_train = regressor_random_forest.predict(X_train)\n",
    "\n",
    "\n",
    "# jeu d'entraînement \n",
    "mae_random_forest_train = mean_absolute_error(y_train,y_pred_random_forest_train)\n",
    "mse_random_forest_train = mean_squared_error(y_train,y_pred_random_forest_train,squared=True)\n",
    "rmse_random_forest_train = mean_squared_error(y_train,y_pred_random_forest_train,squared=False)\n",
    "\n",
    "# jeu de test \n",
    "mae_random_forest_test = mean_absolute_error(y_test,y_pred_random_forest)\n",
    "mse_random_forest_test = mean_squared_error(y_test,y_pred_random_forest,squared=True)\n",
    "rmse_random_forest_test = mean_squared_error(y_test,y_pred_random_forest,squared=False)\n",
    "\n",
    "\n",
    "# Creation d'un dataframe pour comparer les metriques des deux algorithmes \n",
    "data = {'MAE train': [mae_decision_tree_train, mae_random_forest_train],\n",
    "        'MAE test': [mae_decision_tree_test, mae_random_forest_test],\n",
    "        'MSE train': [mse_decision_tree_train,mse_random_forest_train],\n",
    "        'MSE test': [mse_decision_tree_test,mse_random_forest_test],\n",
    "        'RMSE train': [rmse_decision_tree_train, rmse_random_forest_train],\n",
    "        'RMSE test': [rmse_decision_tree_test, rmse_random_forest_test]}\n",
    "  \n",
    "# Creer DataFrame\n",
    "dfcompare = pd.DataFrame(data, index = ['Decision Tree', 'Random Forest '])\n",
    "\n",
    "# Affichage du résultat\n",
    "print(dfcompare)\n"
   ]
  },
  {
   "cell_type": "markdown",
   "id": "928aa2bf-b4d7-4cd8-8fd7-b3448e5aeebb",
   "metadata": {},
   "source": [
    "<div class=\"warning\" style='background-color:#FFF9C4; color: #616161; border-left: solid #616161 4px; border-radius: 4px; padding:0.7em;'>\n",
    "<span>\n",
    "<p style='margin-top:1em; text-align:center'>\n",
    "<b>Régression par Forêt Aléatoire / Arbre de Décision - comparaison - Analyse des résultats</b></p>\n",
    "<p style='margin-left:1em;'>\n",
    "    \n",
    "- **MAE (Mean Absolute Error) :**\n",
    "    \n",
    "> Le `MAE` mesure la *moyenne des erreurs absolues* entre les prédictions et les valeurs réelles.  \n",
    "Un `MAE` de 0 pour **l’arbre de décision** sur l’ensemble d’entraînement indique un ajustement parfait, ce qui est souvent un signe de surapprentissage. Le `MAE` sur l’ensemble de test est élevé, ce qui montre que le modèle ne généralise pas bien.  \n",
    "Pour **la forêt aléatoire**, le `MAE` est plus élevé sur l’ensemble d’entraînement, mais plus bas sur l’ensemble de test par rapport à l’arbre de décision, indiquant une meilleure généralisation.\n",
    "    \n",
    "- **MSE (Mean Squared Error) :**\n",
    "    \n",
    "> Le `MSE` mesure la *moyenne des carrés des erreurs*. Un `MSE` de 0 pour **l’arbre de décision** sur l’ensemble d’entraînement confirme le surapprentissage. Le `MSE` sur l’ensemble de test est très élevé, indiquant une mauvaise performance sur des données non vues. Pour **la forêt aléatoire**, le `MSE` est plus élevé sur l’ensemble d’entraînement mais similaire sur l’ensemble de test, ce qui montre une meilleure capacité de généralisation.\n",
    "\n",
    "- **RMSE (Root Mean Squared Error) :**\n",
    "    \n",
    "> Le `RMSE` est la *racine carrée du MSE* et donne une idée de l’erreur moyenne en unités de la variable cible. Les résultats montrent que **l’arbre de décision** a un `RMSE` de 0 sur l’ensemble d’entraînement, confirmant le surapprentissage, et un `RMSE` élevé sur l’ensemble de test. **La forêt aléatoire** a un `RMSE` plus élevé sur l’ensemble d’entraînement mais similaire sur l’ensemble de test, indiquant une meilleure performance globale.    \n",
    "    \n",
    "- **Conclusions :**\n",
    "\n",
    "> **Surapprentissage de l’arbre de décision :**  \n",
    ">> **L’arbre de décision** montre un <span style=\"color: red;\"><b>surapprentissage sévère</b></span>, avec des erreurs nulles sur l’ensemble d’entraînement mais des erreurs très élevées sur l’ensemble de test. Cela signifie qu’il s’ajuste trop aux données d’entraînement et ne généralise pas bien.  \n",
    "\n",
    "> **Meilleure généralisation de la forêt aléatoire :**  \n",
    ">> **La forêt aléatoire**, bien que présentant des erreurs plus élevées sur l’ensemble d’entraînement, montre une meilleure capacité de généralisation avec des erreurs plus faibles sur l’ensemble de test par rapport à l’arbre de décision.     \n",
    "    \n",
    "</p>\n",
    "<p style='margin-bottom:1em; margin-right:1em; text-align:right; font-family:Georgia'> <b></b> <i></i>\n",
    "</p></span>\n",
    "</div>"
   ]
  },
  {
   "cell_type": "markdown",
   "id": "c96ac1b5-2898-45b2-866a-afa40ea1fa2b",
   "metadata": {},
   "source": [
    "##### <a name=\"tbm-10-02-15\" />[Modéliser : Améliorer les performances - normaliser les données](#summaryUp)"
   ]
  },
  {
   "cell_type": "code",
   "execution_count": 21,
   "id": "52e1999a-15a0-4fed-a9fc-dfcdb4bcd0cc",
   "metadata": {
    "jupyter": {
     "source_hidden": true
    },
    "tags": []
   },
   "outputs": [
    {
     "name": "stdout",
     "output_type": "stream",
     "text": [
      "Mean Squared Error: 1153641.4590322364\n",
      "R^2 Score: 0.8988144776628383\n"
     ]
    }
   ],
   "source": [
    "# Normaliser les données\n",
    "scaler = StandardScaler()\n",
    "X_train_scaled = scaler.fit_transform(X_train)\n",
    "X_test_scaled = scaler.transform(X_test)\n",
    "\n",
    "# Entraîner le modèle sur les données normalisées\n",
    "linreg.fit(X_train_scaled, y_train)\n",
    "y_pred = linreg.predict(X_test_scaled)\n",
    "\n",
    "# Évaluer le modèle\n",
    "print('Mean Squared Error:', mean_squared_error(y_test, y_pred))\n",
    "print('R^2 Score:', r2_score(y_test, y_pred))"
   ]
  },
  {
   "cell_type": "markdown",
   "id": "55e2e0c6-2535-4b6a-aa70-65f48151b026",
   "metadata": {},
   "source": [
    "<div class=\"warning\" style='background-color:#FFF9C4; color: #616161; border-left: solid #616161 4px; border-radius: 4px; padding:0.7em;'>\n",
    "<span>\n",
    "<p style='margin-top:1em; text-align:center'>\n",
    "<b>Améliorer les performances - normaliser les données - Analyse du résultat</b></p>\n",
    "<p style='margin-left:1em;'>\n",
    "    \n",
    "- **Mean Squared Error (`MSE`) :**\n",
    "    \n",
    "> Le `MSE` mesure *la moyenne des carrés des erreurs* entre les valeurs prédites et les valeurs réelles. Ce `MSE` indique qu'en moyenne, les prédictions du modèle s’écartent des valeurs réelles de cette quantité au carré. Plus le `MSE` est faible, meilleure est la performance du modèle.\n",
    "    \n",
    "- **R² Score :**\n",
    "    \n",
    "> Le coefficient de détermination ( `R^2` ) mesure *la proportion de la variance de la variable cible* qui est expliquée par les caractéristiques du modèle. Le ( `R^2` ) indiqué signifie que le modèle explique environ 89.88% de la variance des données de test. Un ( `R^2` ) proche de 1 indique une bonne performance du modèle.\n",
    "\n",
    "- **Analyse des résultats :**\n",
    "\n",
    "> **Performance globale :**  \n",
    ">> Le ( `R^2` ) est assez élevé, ce qui suggère que le `modèle de régression linéaire` **performe bien après la normalisation des données**. Cela signifie que le modèle est capable d’expliquer une grande partie de la variance des données de test.  \n",
    "\n",
    "> **Impact de la normalisation :**  \n",
    ">> La normalisation des données avec *StandardScaler* a probablement aidé à améliorer la performance du modèle en mettant toutes les caractéristiques sur une échelle similaire, ce qui est particulièrement utile pour le `modèle de régression linéaire`.     \n",
    "    \n",
    "</p>\n",
    "<p style='margin-bottom:1em; margin-right:1em; text-align:right; font-family:Georgia'> <b></b> <i></i>\n",
    "</p></span>\n",
    "</div>"
   ]
  },
  {
   "cell_type": "markdown",
   "id": "3c8d8621-8b33-40a7-b0bf-92fa599598f1",
   "metadata": {},
   "source": [
    "##### <a name=\"tbm-10-02-16\" />[Modéliser : Améliorer les performances - utiliser une validation croisée](#summaryUp)"
   ]
  },
  {
   "cell_type": "code",
   "execution_count": 22,
   "id": "ed632397-6a7f-443d-99ae-8d8e22a94e1c",
   "metadata": {
    "jupyter": {
     "source_hidden": true
    },
    "tags": []
   },
   "outputs": [
    {
     "name": "stdout",
     "output_type": "stream",
     "text": [
      "Cross-validated R^2 scores: [ 0.61867664  0.92799412  0.82167138 -1.7969517   0.4245412 ]\n",
      "Mean R^2 score: 0.1991863306393477\n"
     ]
    }
   ],
   "source": [
    "# Évaluer le modèle avec la validation croisée\n",
    "scores = cross_val_score(linreg, X_train_scaled, y_train, cv=5, scoring='r2')\n",
    "print('Cross-validated R^2 scores:', scores)\n",
    "print('Mean R^2 score:', scores.mean())"
   ]
  },
  {
   "cell_type": "markdown",
   "id": "47aac19f-6c82-43c7-b2af-25536f15c3ae",
   "metadata": {},
   "source": [
    "<div class=\"warning\" style='background-color:#FFF9C4; color: #616161; border-left: solid #616161 4px; border-radius: 4px; padding:0.7em;'>\n",
    "<span>\n",
    "<p style='margin-top:1em; text-align:center'>\n",
    "<b>Améliorer les performances - utiliser une validation croisée - Analyse du résultat</b></p>\n",
    "<p style='margin-left:1em;'>\n",
    "    \n",
    "- **Interprétation des scores ( `R^2` ) :**\n",
    "\n",
    "> **Scores individuels :**     \n",
    ">> Les scores ( `R^2` ) **varient considérablement**, allant de très bons (0.92799412) à très mauvais (-1.7969517). Un score ( `R^2` ) positif indique que le modèle explique une proportion de la variance des données, tandis qu’un score négatif indique que le modèle est pire que la moyenne des valeurs observées.      \n",
    "    \n",
    "> **Score moyen :**    \n",
    ">> Le score moyen ( `R^2` ) est relativement faible, ce qui suggère qu'en moyenne, **le modèle n’explique qu’environ 19.92% de la variance des données de validation**.    \n",
    "\n",
    "- **Analyse des résultats :**\n",
    "\n",
    "> **Variabilité des performances :**  \n",
    ">> La **grande variabilité des scores** ( `R^2` ) indique que `le modèle de régression linéaire` a des **performances très inégales** selon les différentes partitions des données. Cela peut être dû à des caractéristiques spécifiques des sous-ensembles de données ou à une instabilité du modèle. **Il faut examiner les données, et vérifier s’il y a des anomalies ou des caractéristiques spécifiques dans les partitions des données qui pourraient expliquer cette variabilité. Par exemple, des valeurs aberrantes ou des distributions différentes.** \n",
    "\n",
    "> **Score négatif :**  \n",
    ">> Le score ( `R^2` ) négatif (-1.7969517) est **particulièrement préoccupant**, car il indique que, pour cette partition spécifique, **le modèle performe pire que si l'on avait simplement prédit la moyenne des valeurs cibles**.     \n",
    "    \n",
    "</p>\n",
    "<p style='margin-bottom:1em; margin-right:1em; text-align:right; font-family:Georgia'> <b></b> <i></i>\n",
    "</p></span>\n",
    "</div>"
   ]
  },
  {
   "cell_type": "markdown",
   "id": "33c62e2c-c188-418f-b92e-29296f2d77f9",
   "metadata": {},
   "source": [
    "##### <a name=\"tbm-10-02-17\" />[Modéliser : Améliorer les performances - utiliser un modèle Random Forest](#summaryUp)"
   ]
  },
  {
   "cell_type": "code",
   "execution_count": 23,
   "id": "b69e33a8-1b60-46ba-a71e-0cae4f503722",
   "metadata": {
    "jupyter": {
     "source_hidden": true
    },
    "tags": []
   },
   "outputs": [
    {
     "name": "stdout",
     "output_type": "stream",
     "text": [
      "Mean Squared Error: 5541185.077383335\n",
      "R^2 Score: 0.5139844342173117\n"
     ]
    }
   ],
   "source": [
    "# Instancier et entraîner le modèle Random Forest\n",
    "\n",
    "#  entraîne un modèle de régression par forêt aléatoire sur des données normalisées, puis évalue sa performance \n",
    "# en utilisant le MSE et le ( R^2 ) sur les données de test\n",
    "\n",
    "rf = RandomForestRegressor()\n",
    "rf.fit(X_train_scaled, y_train)\n",
    "\n",
    "# Prédire et évaluer\n",
    "y_pred_rf = rf.predict(X_test_scaled)\n",
    "print('Mean Squared Error:', mean_squared_error(y_test, y_pred_rf))\n",
    "print('R^2 Score:', r2_score(y_test, y_pred_rf))"
   ]
  },
  {
   "cell_type": "markdown",
   "id": "2084fef2-4975-4554-913b-3e6fb09460c9",
   "metadata": {},
   "source": [
    "<div style=\"padding-right: 200px;\">\n",
    "\n",
    "**Analyse du résultat**  \n",
    "\n",
    "Le modèle Random Forest a des performances inférieures en termes de MSE et de ( R^2 ) par rapport au :  \n",
    "`modèle de Régression Linéaire`.  \n",
    "    \n",
    "*(Cela peut être dû à plusieurs facteurs, comme la complexité des données ou les hyperparamètres du modèle.)*\n",
    "    \n",
    "</div>"
   ]
  },
  {
   "cell_type": "markdown",
   "id": "f88137e0-9e46-4c62-af26-6fbb8089bfca",
   "metadata": {},
   "source": [
    "##### <a name=\"tbm-10-02-18\" />[Utiliser : Régression Linéaire - tester le modèle choisi](#summaryUp)"
   ]
  },
  {
   "cell_type": "markdown",
   "id": "7c503a11-6afa-42d5-91ca-9101c3f91edf",
   "metadata": {},
   "source": []
  },
  {
   "cell_type": "markdown",
   "id": "0b322c91-7ca5-445c-9293-06aef4bf4749",
   "metadata": {},
   "source": [
    "###### <a name=\"anchorDown\" />\n",
    "\n",
    "##### [PROJET DATASCIENTEST (Nov. 2024) : Impact Textile avec EcoBalyse - Consommation Des Données - Prédictions (Mode Basic)](#anchorUp)"
   ]
  }
 ],
 "metadata": {
  "kernelspec": {
   "display_name": "Python 3 (ipykernel)",
   "language": "python",
   "name": "python3"
  },
  "language_info": {
   "codemirror_mode": {
    "name": "ipython",
    "version": 3
   },
   "file_extension": ".py",
   "mimetype": "text/x-python",
   "name": "python",
   "nbconvert_exporter": "python",
   "pygments_lexer": "ipython3",
   "version": "3.11.1"
  }
 },
 "nbformat": 4,
 "nbformat_minor": 5
}
